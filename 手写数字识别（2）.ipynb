{
 "cells": [
  {
   "cell_type": "code",
   "execution_count": 1,
   "id": "37f3604c",
   "metadata": {},
   "outputs": [],
   "source": [
    "from keras.datasets import mnist \n",
    "from keras.utils import np_utils  \n",
    "from keras.models import Sequential  \n",
    "from keras.layers import Dense, Activation "
   ]
  },
  {
   "cell_type": "code",
   "execution_count": 2,
   "id": "63e526d1",
   "metadata": {},
   "outputs": [],
   "source": [
    "(X_train, y_train), (X_test, y_test) = mnist.load_data()"
   ]
  },
  {
   "cell_type": "code",
   "execution_count": 3,
   "id": "60921aa0",
   "metadata": {},
   "outputs": [
    {
     "name": "stdout",
     "output_type": "stream",
     "text": [
      "(60000, 28, 28, 1)\n",
      "(10000, 28, 28, 1)\n",
      "(60000,)\n",
      "(10000,)\n"
     ]
    }
   ],
   "source": [
    "X_train = X_train.reshape(-1,28,28,1)\n",
    "X_test = X_test.reshape(-1,28,28,1)\n",
    "print(X_train.shape)\n",
    "print(X_test.shape)\n",
    "print(y_train.shape)\n",
    "print(y_test.shape)"
   ]
  },
  {
   "cell_type": "code",
   "execution_count": 4,
   "id": "a2fd760f",
   "metadata": {},
   "outputs": [
    {
     "data": {
      "image/png": "[encoded data removed]",
      "text/plain": [
       "<Figure size 432x288 with 1 Axes>"
      ]
     },
     "metadata": {
      "needs_background": "light"
     },
     "output_type": "display_data"
    },
    {
     "data": {
      "text/plain": [
       "1"
      ]
     },
     "execution_count": 4,
     "metadata": {},
     "output_type": "execute_result"
    }
   ],
   "source": [
    "import matplotlib.pyplot as plt # 导入可视化的包\n",
    "im = plt.imshow(X_train[8],cmap='gray')\n",
    "\n",
    "plt.show()\n",
    "y_train[8]"
   ]
  },
  {
   "cell_type": "code",
   "execution_count": 5,
   "id": "6c7e9fea",
   "metadata": {},
   "outputs": [],
   "source": [
    "X_train = X_train.astype('float32')  #把数据转换成浮点类型（原为字符串类型）\n",
    "X_test = X_test.astype('float32')"
   ]
  },
  {
   "cell_type": "code",
   "execution_count": 6,
   "id": "f562676a",
   "metadata": {},
   "outputs": [
    {
     "name": "stdout",
     "output_type": "stream",
     "text": [
      "[[0. 0. 0. ... 0. 0. 0.]\n",
      " [1. 0. 0. ... 0. 0. 0.]\n",
      " [0. 0. 0. ... 0. 0. 0.]\n",
      " ...\n",
      " [0. 0. 0. ... 0. 0. 0.]\n",
      " [0. 0. 0. ... 0. 0. 0.]\n",
      " [0. 0. 0. ... 0. 1. 0.]]\n"
     ]
    }
   ],
   "source": [
    "from keras.utils import np_utils  \n",
    "Y_train = np_utils.to_categorical(y_train, 10)\n",
    "Y_test = np_utils.to_categorical(y_test, 10)\n",
    "print(Y_train)"
   ]
  },
  {
   "cell_type": "code",
   "execution_count": 7,
   "id": "c67f0dd7",
   "metadata": {},
   "outputs": [],
   "source": [
    "from keras.models import Sequential  \n",
    "from keras.layers import Dense,Activation,Flatten\n",
    "from keras.layers import Conv2D, MaxPooling2D\n",
    "model = Sequential()"
   ]
  },
  {
   "cell_type": "code",
   "execution_count": 8,
   "id": "769669e7",
   "metadata": {},
   "outputs": [],
   "source": [
    "model.add(Conv2D(32, (3, 3), input_shape=X_train.shape[1:]))"
   ]
  },
  {
   "cell_type": "code",
   "execution_count": 9,
   "id": "12324aa7",
   "metadata": {},
   "outputs": [],
   "source": [
    "model.add(MaxPooling2D(pool_size=(2, 2)))"
   ]
  },
  {
   "cell_type": "code",
   "execution_count": 10,
   "id": "8381a4de",
   "metadata": {},
   "outputs": [],
   "source": [
    "model.add(Conv2D(64, (3, 3)))"
   ]
  },
  {
   "cell_type": "code",
   "execution_count": 11,
   "id": "d3435277",
   "metadata": {},
   "outputs": [],
   "source": [
    "model.add(MaxPooling2D(pool_size=(2, 2)))"
   ]
  },
  {
   "cell_type": "code",
   "execution_count": 12,
   "id": "d9b8af6e",
   "metadata": {},
   "outputs": [],
   "source": [
    "model.add(Flatten())\n",
    "model.add(Dense(512))\n",
    "model.add(Activation('relu'))\n",
    "model.add(Dense(10))\n",
    "model.add(Activation('softmax'))"
   ]
  },
  {
   "cell_type": "code",
   "execution_count": 13,
   "id": "0c1bccdc",
   "metadata": {},
   "outputs": [
    {
     "name": "stdout",
     "output_type": "stream",
     "text": [
      "Model: \"sequential\"\n",
      "_________________________________________________________________\n",
      " Layer (type)                Output Shape              Param #   \n",
      "=================================================================\n",
      " conv2d (Conv2D)             (None, 26, 26, 32)        320       \n",
      "                                                                 \n",
      " max_pooling2d (MaxPooling2D  (None, 13, 13, 32)       0         \n",
      " )                                                               \n",
      "                                                                 \n",
      " conv2d_1 (Conv2D)           (None, 11, 11, 64)        18496     \n",
      "                                                                 \n",
      " max_pooling2d_1 (MaxPooling  (None, 5, 5, 64)         0         \n",
      " 2D)                                                             \n",
      "                                                                 \n",
      " flatten (Flatten)           (None, 1600)              0         \n",
      "                                                                 \n",
      " dense (Dense)               (None, 512)               819712    \n",
      "                                                                 \n",
      " activation (Activation)     (None, 512)               0         \n",
      "                                                                 \n",
      " dense_1 (Dense)             (None, 10)                5130      \n",
      "                                                                 \n",
      " activation_1 (Activation)   (None, 10)                0         \n",
      "                                                                 \n",
      "=================================================================\n",
      "Total params: 843,658\n",
      "Trainable params: 843,658\n",
      "Non-trainable params: 0\n",
      "_________________________________________________________________\n"
     ]
    }
   ],
   "source": [
    "model.summary()"
   ]
  },
  {
   "cell_type": "code",
   "execution_count": 14,
   "id": "235610ee",
   "metadata": {},
   "outputs": [],
   "source": [
    "model.compile(loss = 'categorical_crossentropy',\n",
    "              optimizer = 'rmsprop',\n",
    "              metrics = ['accuracy'])"
   ]
  },
  {
   "cell_type": "code",
   "execution_count": 15,
   "id": "03cb587f",
   "metadata": {},
   "outputs": [
    {
     "name": "stdout",
     "output_type": "stream",
     "text": [
      "Epoch 1/20\n",
      "600/600 [==============================] - 14s 23ms/step - loss: 1.5161 - accuracy: 0.9325\n",
      "Epoch 2/20\n",
      "600/600 [==============================] - 14s 23ms/step - loss: 0.1336 - accuracy: 0.9768\n",
      "Epoch 3/20\n",
      "600/600 [==============================] - 14s 23ms/step - loss: 0.0968 - accuracy: 0.9842\n",
      "Epoch 4/20\n",
      "600/600 [==============================] - 14s 23ms/step - loss: 0.0832 - accuracy: 0.9872\n",
      "Epoch 5/20\n",
      "600/600 [==============================] - 14s 23ms/step - loss: 0.0719 - accuracy: 0.9904\n",
      "Epoch 6/20\n",
      "600/600 [==============================] - 14s 23ms/step - loss: 0.0689 - accuracy: 0.9915\n",
      "Epoch 7/20\n",
      "600/600 [==============================] - 14s 23ms/step - loss: 0.0660 - accuracy: 0.9926\n",
      "Epoch 8/20\n",
      "600/600 [==============================] - 14s 23ms/step - loss: 0.0561 - accuracy: 0.9938\n",
      "Epoch 9/20\n",
      "600/600 [==============================] - 14s 23ms/step - loss: 0.0529 - accuracy: 0.9947\n",
      "Epoch 10/20\n",
      "600/600 [==============================] - 14s 23ms/step - loss: 0.0594 - accuracy: 0.9947\n",
      "Epoch 11/20\n",
      "600/600 [==============================] - 14s 23ms/step - loss: 0.0464 - accuracy: 0.9956\n",
      "Epoch 12/20\n",
      "600/600 [==============================] - 14s 24ms/step - loss: 0.0539 - accuracy: 0.99610s - loss: 0.0539 - accuracy: 0.99\n",
      "Epoch 13/20\n",
      "600/600 [==============================] - 14s 23ms/step - loss: 0.0517 - accuracy: 0.9964\n",
      "Epoch 14/20\n",
      "600/600 [==============================] - 14s 23ms/step - loss: 0.0438 - accuracy: 0.9969\n",
      "Epoch 15/20\n",
      "600/600 [==============================] - 14s 23ms/step - loss: 0.0437 - accuracy: 0.9970\n",
      "Epoch 16/20\n",
      "600/600 [==============================] - 14s 23ms/step - loss: 0.0462 - accuracy: 0.9968\n",
      "Epoch 17/20\n",
      "600/600 [==============================] - 14s 23ms/step - loss: 0.0392 - accuracy: 0.9975\n",
      "Epoch 18/20\n",
      "600/600 [==============================] - 14s 23ms/step - loss: 0.0331 - accuracy: 0.9980\n",
      "Epoch 19/20\n",
      "600/600 [==============================] - 14s 23ms/step - loss: 0.0437 - accuracy: 0.9976\n",
      "Epoch 20/20\n",
      "600/600 [==============================] - 14s 23ms/step - loss: 0.0312 - accuracy: 0.9981\n"
     ]
    },
    {
     "data": {
      "text/plain": [
       "<keras.callbacks.History at 0x1ac1e4e7700>"
      ]
     },
     "execution_count": 15,
     "metadata": {},
     "output_type": "execute_result"
    }
   ],
   "source": [
    "model.fit(X_train, Y_train, batch_size=100, epochs=20)"
   ]
  },
  {
   "cell_type": "code",
   "execution_count": 16,
   "id": "26439088",
   "metadata": {},
   "outputs": [
    {
     "name": "stdout",
     "output_type": "stream",
     "text": [
      "313/313 [==============================] - 1s 3ms/step - loss: 0.5873 - accuracy: 0.9864\n",
      "Test loss:  0.587347149848938\n",
      "Test accuracy:  0.9864000082015991\n"
     ]
    }
   ],
   "source": [
    "score = model.evaluate(X_test, Y_test)\n",
    "print('Test loss: ', score[0])\n",
    "print('Test accuracy: ', score[1])"
   ]
  },
  {
   "cell_type": "code",
   "execution_count": null,
   "id": "cf68375f",
   "metadata": {},
   "outputs": [],
   "source": []
  }
 ],
 "metadata": {
  "kernelspec": {
   "display_name": "Python 3",
   "language": "python",
   "name": "python3"
  },
  "language_info": {
   "codemirror_mode": {
    "name": "ipython",
    "version": 3
   },
   "file_extension": ".py",
   "mimetype": "text/x-python",
   "name": "python",
   "nbconvert_exporter": "python",
   "pygments_lexer": "ipython3",
   "version": "3.8.8"
  }
 },
 "nbformat": 4,
 "nbformat_minor": 5
}
