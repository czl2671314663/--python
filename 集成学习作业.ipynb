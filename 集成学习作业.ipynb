{
 "cells": [
  {
   "cell_type": "code",
   "execution_count": 1,
   "id": "bfcbbbff",
   "metadata": {},
   "outputs": [],
   "source": [
    "# 先导入pandas库\n",
    "import pandas as pd\n",
    "# 读入数据，假设数据存放在当前目录下的titanic.csv文件中\n",
    "data = pd.read_csv(\"Telephone.csv\",encoding='gb18030')"
   ]
  },
  {
   "cell_type": "code",
   "execution_count": 2,
   "id": "34a9c41b",
   "metadata": {},
   "outputs": [],
   "source": [
    "#以下两句用于正常显示汉字\n",
    "#from pylab import mpl   \n",
    "#mpl.rcParams['font.sans-serif'] = ['Kaiti']"
   ]
  },
  {
   "cell_type": "code",
   "execution_count": 3,
   "id": "512f41ce",
   "metadata": {
    "scrolled": false
   },
   "outputs": [
    {
     "data": {
      "text/html": [
       "<div>\n",
       "<style scoped>\n",
       "    .dataframe tbody tr th:only-of-type {\n",
       "        vertical-align: middle;\n",
       "    }\n",
       "\n",
       "    .dataframe tbody tr th {\n",
       "        vertical-align: top;\n",
       "    }\n",
       "\n",
       "    .dataframe thead th {\n",
       "        text-align: right;\n",
       "    }\n",
       "</style>\n",
       "<table border=\"1\" class=\"dataframe\">\n",
       "  <thead>\n",
       "    <tr style=\"text-align: right;\">\n",
       "      <th></th>\n",
       "      <th>居住地</th>\n",
       "      <th>年龄</th>\n",
       "      <th>婚姻状况</th>\n",
       "      <th>收入</th>\n",
       "      <th>教育水平</th>\n",
       "      <th>性别</th>\n",
       "      <th>家庭人数</th>\n",
       "      <th>开通月数</th>\n",
       "      <th>无线服务</th>\n",
       "      <th>基本费用</th>\n",
       "      <th>免费部分</th>\n",
       "      <th>无线费用</th>\n",
       "      <th>电子支付</th>\n",
       "      <th>套餐类型</th>\n",
       "      <th>流失</th>\n",
       "    </tr>\n",
       "  </thead>\n",
       "  <tbody>\n",
       "    <tr>\n",
       "      <th>0</th>\n",
       "      <td>2</td>\n",
       "      <td>44</td>\n",
       "      <td>1</td>\n",
       "      <td>64</td>\n",
       "      <td>4</td>\n",
       "      <td>0</td>\n",
       "      <td>2</td>\n",
       "      <td>13</td>\n",
       "      <td>0</td>\n",
       "      <td>3.70</td>\n",
       "      <td>0.00</td>\n",
       "      <td>0.0</td>\n",
       "      <td>0</td>\n",
       "      <td>1</td>\n",
       "      <td>1</td>\n",
       "    </tr>\n",
       "    <tr>\n",
       "      <th>1</th>\n",
       "      <td>3</td>\n",
       "      <td>33</td>\n",
       "      <td>1</td>\n",
       "      <td>136</td>\n",
       "      <td>5</td>\n",
       "      <td>0</td>\n",
       "      <td>6</td>\n",
       "      <td>11</td>\n",
       "      <td>1</td>\n",
       "      <td>4.40</td>\n",
       "      <td>20.75</td>\n",
       "      <td>35.7</td>\n",
       "      <td>0</td>\n",
       "      <td>4</td>\n",
       "      <td>1</td>\n",
       "    </tr>\n",
       "    <tr>\n",
       "      <th>2</th>\n",
       "      <td>3</td>\n",
       "      <td>52</td>\n",
       "      <td>1</td>\n",
       "      <td>116</td>\n",
       "      <td>1</td>\n",
       "      <td>1</td>\n",
       "      <td>2</td>\n",
       "      <td>68</td>\n",
       "      <td>0</td>\n",
       "      <td>18.15</td>\n",
       "      <td>18.00</td>\n",
       "      <td>0.0</td>\n",
       "      <td>0</td>\n",
       "      <td>3</td>\n",
       "      <td>0</td>\n",
       "    </tr>\n",
       "    <tr>\n",
       "      <th>3</th>\n",
       "      <td>2</td>\n",
       "      <td>33</td>\n",
       "      <td>0</td>\n",
       "      <td>33</td>\n",
       "      <td>2</td>\n",
       "      <td>1</td>\n",
       "      <td>1</td>\n",
       "      <td>33</td>\n",
       "      <td>0</td>\n",
       "      <td>9.45</td>\n",
       "      <td>0.00</td>\n",
       "      <td>0.0</td>\n",
       "      <td>0</td>\n",
       "      <td>1</td>\n",
       "      <td>1</td>\n",
       "    </tr>\n",
       "    <tr>\n",
       "      <th>4</th>\n",
       "      <td>2</td>\n",
       "      <td>30</td>\n",
       "      <td>1</td>\n",
       "      <td>30</td>\n",
       "      <td>1</td>\n",
       "      <td>0</td>\n",
       "      <td>4</td>\n",
       "      <td>23</td>\n",
       "      <td>0</td>\n",
       "      <td>6.30</td>\n",
       "      <td>0.00</td>\n",
       "      <td>0.0</td>\n",
       "      <td>0</td>\n",
       "      <td>3</td>\n",
       "      <td>0</td>\n",
       "    </tr>\n",
       "    <tr>\n",
       "      <th>5</th>\n",
       "      <td>2</td>\n",
       "      <td>39</td>\n",
       "      <td>0</td>\n",
       "      <td>78</td>\n",
       "      <td>2</td>\n",
       "      <td>1</td>\n",
       "      <td>1</td>\n",
       "      <td>41</td>\n",
       "      <td>0</td>\n",
       "      <td>11.80</td>\n",
       "      <td>19.25</td>\n",
       "      <td>0.0</td>\n",
       "      <td>0</td>\n",
       "      <td>3</td>\n",
       "      <td>0</td>\n",
       "    </tr>\n",
       "    <tr>\n",
       "      <th>6</th>\n",
       "      <td>3</td>\n",
       "      <td>22</td>\n",
       "      <td>1</td>\n",
       "      <td>19</td>\n",
       "      <td>2</td>\n",
       "      <td>1</td>\n",
       "      <td>5</td>\n",
       "      <td>45</td>\n",
       "      <td>0</td>\n",
       "      <td>10.90</td>\n",
       "      <td>0.00</td>\n",
       "      <td>0.0</td>\n",
       "      <td>1</td>\n",
       "      <td>2</td>\n",
       "      <td>1</td>\n",
       "    </tr>\n",
       "    <tr>\n",
       "      <th>7</th>\n",
       "      <td>2</td>\n",
       "      <td>35</td>\n",
       "      <td>0</td>\n",
       "      <td>76</td>\n",
       "      <td>2</td>\n",
       "      <td>0</td>\n",
       "      <td>3</td>\n",
       "      <td>38</td>\n",
       "      <td>1</td>\n",
       "      <td>6.05</td>\n",
       "      <td>45.00</td>\n",
       "      <td>64.9</td>\n",
       "      <td>1</td>\n",
       "      <td>4</td>\n",
       "      <td>0</td>\n",
       "    </tr>\n",
       "    <tr>\n",
       "      <th>8</th>\n",
       "      <td>3</td>\n",
       "      <td>59</td>\n",
       "      <td>1</td>\n",
       "      <td>166</td>\n",
       "      <td>4</td>\n",
       "      <td>0</td>\n",
       "      <td>5</td>\n",
       "      <td>45</td>\n",
       "      <td>0</td>\n",
       "      <td>9.75</td>\n",
       "      <td>28.50</td>\n",
       "      <td>0.0</td>\n",
       "      <td>0</td>\n",
       "      <td>3</td>\n",
       "      <td>0</td>\n",
       "    </tr>\n",
       "    <tr>\n",
       "      <th>9</th>\n",
       "      <td>1</td>\n",
       "      <td>41</td>\n",
       "      <td>1</td>\n",
       "      <td>72</td>\n",
       "      <td>1</td>\n",
       "      <td>0</td>\n",
       "      <td>3</td>\n",
       "      <td>68</td>\n",
       "      <td>0</td>\n",
       "      <td>24.15</td>\n",
       "      <td>0.00</td>\n",
       "      <td>0.0</td>\n",
       "      <td>0</td>\n",
       "      <td>2</td>\n",
       "      <td>0</td>\n",
       "    </tr>\n",
       "  </tbody>\n",
       "</table>\n",
       "</div>"
      ],
      "text/plain": [
       "   居住地  年龄  婚姻状况   收入  教育水平  性别  家庭人数  开通月数  无线服务   基本费用   免费部分  无线费用  电子支付  \\\n",
       "0    2  44     1   64     4   0     2    13     0   3.70   0.00   0.0     0   \n",
       "1    3  33     1  136     5   0     6    11     1   4.40  20.75  35.7     0   \n",
       "2    3  52     1  116     1   1     2    68     0  18.15  18.00   0.0     0   \n",
       "3    2  33     0   33     2   1     1    33     0   9.45   0.00   0.0     0   \n",
       "4    2  30     1   30     1   0     4    23     0   6.30   0.00   0.0     0   \n",
       "5    2  39     0   78     2   1     1    41     0  11.80  19.25   0.0     0   \n",
       "6    3  22     1   19     2   1     5    45     0  10.90   0.00   0.0     1   \n",
       "7    2  35     0   76     2   0     3    38     1   6.05  45.00  64.9     1   \n",
       "8    3  59     1  166     4   0     5    45     0   9.75  28.50   0.0     0   \n",
       "9    1  41     1   72     1   0     3    68     0  24.15   0.00   0.0     0   \n",
       "\n",
       "   套餐类型  流失  \n",
       "0     1   1  \n",
       "1     4   1  \n",
       "2     3   0  \n",
       "3     1   1  \n",
       "4     3   0  \n",
       "5     3   0  \n",
       "6     2   1  \n",
       "7     4   0  \n",
       "8     3   0  \n",
       "9     2   0  "
      ]
     },
     "execution_count": 3,
     "metadata": {},
     "output_type": "execute_result"
    }
   ],
   "source": [
    "# 显示前10行数据\n",
    "data.head(10)"
   ]
  },
  {
   "cell_type": "code",
   "execution_count": 4,
   "id": "7f622d87",
   "metadata": {},
   "outputs": [
    {
     "data": {
      "text/plain": [
       "(1000, 15)"
      ]
     },
     "execution_count": 4,
     "metadata": {},
     "output_type": "execute_result"
    }
   ],
   "source": [
    "#显示行和列\n",
    "data.shape"
   ]
  },
  {
   "cell_type": "code",
   "execution_count": 5,
   "id": "931f89f2",
   "metadata": {},
   "outputs": [
    {
     "name": "stdout",
     "output_type": "stream",
     "text": [
      "<class 'pandas.core.frame.DataFrame'>\n",
      "RangeIndex: 1000 entries, 0 to 999\n",
      "Data columns (total 15 columns):\n",
      " #   Column  Non-Null Count  Dtype  \n",
      "---  ------  --------------  -----  \n",
      " 0   居住地     1000 non-null   int64  \n",
      " 1   年龄      1000 non-null   int64  \n",
      " 2   婚姻状况    1000 non-null   int64  \n",
      " 3   收入      1000 non-null   int64  \n",
      " 4   教育水平    1000 non-null   int64  \n",
      " 5   性别      1000 non-null   int64  \n",
      " 6   家庭人数    1000 non-null   int64  \n",
      " 7   开通月数    1000 non-null   int64  \n",
      " 8   无线服务    1000 non-null   int64  \n",
      " 9   基本费用    1000 non-null   float64\n",
      " 10  免费部分    1000 non-null   float64\n",
      " 11  无线费用    1000 non-null   float64\n",
      " 12  电子支付    1000 non-null   int64  \n",
      " 13  套餐类型    1000 non-null   int64  \n",
      " 14  流失      1000 non-null   int64  \n",
      "dtypes: float64(3), int64(12)\n",
      "memory usage: 117.3 KB\n"
     ]
    }
   ],
   "source": [
    "#显示数据信息\n",
    "data.info()"
   ]
  },
  {
   "cell_type": "code",
   "execution_count": 6,
   "id": "56f66d59",
   "metadata": {
    "scrolled": false
   },
   "outputs": [
    {
     "name": "stdout",
     "output_type": "stream",
     "text": [
      "             居住地           年龄         婚姻状况           收入         教育水平  \\\n",
      "count  1000.0000  1000.000000  1000.000000  1000.000000  1000.000000   \n",
      "mean      2.0220    41.684000     0.495000    77.535000     2.671000   \n",
      "std       0.8162    12.558816     0.500225   107.044165     1.222397   \n",
      "min       1.0000    18.000000     0.000000     9.000000     1.000000   \n",
      "25%       1.0000    32.000000     0.000000    29.000000     2.000000   \n",
      "50%       2.0000    40.000000     0.000000    47.000000     3.000000   \n",
      "75%       3.0000    51.000000     1.000000    83.000000     4.000000   \n",
      "max       3.0000    77.000000     1.000000  1668.000000     5.000000   \n",
      "\n",
      "                性别         家庭人数         开通月数         无线服务         基本费用  \\\n",
      "count  1000.000000  1000.000000  1000.000000  1000.000000  1000.000000   \n",
      "mean      0.517000     2.331000    35.526000     0.296000    11.723100   \n",
      "std       0.499961     1.435793    21.359812     0.456719    10.363486   \n",
      "min       0.000000     1.000000     1.000000     0.000000     0.900000   \n",
      "25%       0.000000     1.000000    17.000000     0.000000     5.200000   \n",
      "50%       1.000000     2.000000    34.000000     0.000000     8.525000   \n",
      "75%       1.000000     3.000000    54.000000     1.000000    14.412500   \n",
      "max       1.000000     8.000000    72.000000     1.000000    99.950000   \n",
      "\n",
      "              免费部分         无线费用         电子支付         套餐类型           流失  \n",
      "count  1000.000000  1000.000000  1000.000000  1000.000000  1000.000000  \n",
      "mean     13.274000    11.583900     0.371000     2.487000     0.274000  \n",
      "std      16.902122    19.719426     0.483314     1.120306     0.446232  \n",
      "min       0.000000     0.000000     0.000000     1.000000     0.000000  \n",
      "25%       0.000000     0.000000     0.000000     1.000000     0.000000  \n",
      "50%       0.000000     0.000000     0.000000     3.000000     0.000000  \n",
      "75%      24.250000    24.712500     1.000000     3.000000     1.000000  \n",
      "max     173.000000   111.950000     1.000000     4.000000     1.000000  \n",
      "           居住地        年龄      婚姻状况        收入      教育水平        性别      家庭人数  \\\n",
      "居住地   1.000000  0.015034 -0.080637  0.023765 -0.057952  0.050596 -0.065158   \n",
      "年龄    0.015034  1.000000 -0.014433  0.327948 -0.154857 -0.011419 -0.254993   \n",
      "婚姻状况 -0.080637 -0.014433  1.000000 -0.043984  0.001400  0.008345  0.625999   \n",
      "收入    0.023765  0.327948 -0.043984  1.000000  0.113939  0.038706 -0.097591   \n",
      "教育水平 -0.057952 -0.154857  0.001400  0.113939  1.000000  0.006704  0.021045   \n",
      "性别    0.050596 -0.011419  0.008345  0.038706  0.006704  1.000000  0.016556   \n",
      "家庭人数 -0.065158 -0.254993  0.625999 -0.097591  0.021045  0.016556  1.000000   \n",
      "开通月数  0.016388  0.490217  0.154171  0.242912 -0.109797  0.023533 -0.036592   \n",
      "无线服务 -0.006745 -0.010203  0.032773  0.093583  0.321630 -0.000140  0.039725   \n",
      "基本费用 -0.001581  0.401273  0.129905  0.194624 -0.090403  0.014520 -0.035950   \n",
      "免费部分  0.029748  0.168817  0.069274  0.173492 -0.021795  0.008925  0.045488   \n",
      "无线费用  0.007597  0.034313  0.049864  0.128254  0.320265  0.012877  0.047803   \n",
      "电子支付  0.030039 -0.144425 -0.056495 -0.034062  0.405040 -0.015771  0.000287   \n",
      "套餐类型 -0.023771  0.056909  0.083836  0.134525  0.193864 -0.004966  0.082022   \n",
      "流失   -0.016567 -0.252819 -0.038701 -0.091339  0.203965  0.006021  0.009852   \n",
      "\n",
      "          开通月数      无线服务      基本费用      免费部分      无线费用      电子支付      套餐类型  \\\n",
      "居住地   0.016388 -0.006745 -0.001581  0.029748  0.007597  0.030039 -0.023771   \n",
      "年龄    0.490217 -0.010203  0.401273  0.168817  0.034313 -0.144425  0.056909   \n",
      "婚姻状况  0.154171  0.032773  0.129905  0.069274  0.049864 -0.056495  0.083836   \n",
      "收入    0.242912  0.093583  0.194624  0.173492  0.128254 -0.034062  0.134525   \n",
      "教育水平 -0.109797  0.321630 -0.090403 -0.021795  0.320265  0.405040  0.193864   \n",
      "性别    0.023533 -0.000140  0.014520  0.008925  0.012877 -0.015771 -0.004966   \n",
      "家庭人数 -0.036592  0.039725 -0.035950  0.045488  0.047803  0.000287  0.082022   \n",
      "开通月数  1.000000  0.003007  0.713678  0.226529  0.102091 -0.157095  0.166691   \n",
      "无线服务  0.003007  1.000000 -0.009070  0.385759  0.906397  0.336408  0.608130   \n",
      "基本费用  0.713678 -0.009070  1.000000  0.205399  0.063911 -0.150669  0.149224   \n",
      "免费部分  0.226529  0.385759  0.205399  1.000000  0.445983 -0.081842  0.561467   \n",
      "无线费用  0.102091  0.906397  0.063911  0.445983  1.000000  0.332919  0.622253   \n",
      "电子支付 -0.157095  0.336408 -0.150669 -0.081842  0.332919  1.000000  0.154040   \n",
      "套餐类型  0.166691  0.608130  0.149224  0.561467  0.622253  0.154040  1.000000   \n",
      "流失   -0.376828  0.132103 -0.272372 -0.090126  0.099533  0.256880  0.007132   \n",
      "\n",
      "            流失  \n",
      "居住地  -0.016567  \n",
      "年龄   -0.252819  \n",
      "婚姻状况 -0.038701  \n",
      "收入   -0.091339  \n",
      "教育水平  0.203965  \n",
      "性别    0.006021  \n",
      "家庭人数  0.009852  \n",
      "开通月数 -0.376828  \n",
      "无线服务  0.132103  \n",
      "基本费用 -0.272372  \n",
      "免费部分 -0.090126  \n",
      "无线费用  0.099533  \n",
      "电子支付  0.256880  \n",
      "套餐类型  0.007132  \n",
      "流失    1.000000  \n"
     ]
    },
    {
     "data": {
      "text/plain": [
       "<AxesSubplot:>"
      ]
     },
     "execution_count": 6,
     "metadata": {},
     "output_type": "execute_result"
    },
    {
     "data": {
      "image/png": "[encoded data removed]",
      "text/plain": [
       "<Figure size 1100x900 with 2 Axes>"
      ]
     },
     "metadata": {
      "needs_background": "light"
     },
     "output_type": "display_data"
    }
   ],
   "source": [
    "import matplotlib.pyplot as plt\n",
    "import seaborn as sns  #作图\n",
    "from pylab import mpl   \n",
    "mpl.rcParams['font.sans-serif'] = ['Kaiti']\n",
    "# 显示数值型特征列的描述统计信息\n",
    "print(data.describe())  \n",
    "\n",
    "data_corr = data.corr(method='pearson') #生成相关性矩阵\n",
    "print(data_corr)      #显示相关性矩阵，越接近于0，相关性越弱，绝对值越大，相关性越强（正相关或者负相关），相关性强，则对预测的作用越大\n",
    "data_corr = data_corr.abs()\n",
    "plt.figure(figsize=(11, 9),dpi=100)   #生成画布\n",
    "sns.heatmap(data=data_corr)  #绘制热力图"
   ]
  },
  {
   "cell_type": "code",
   "execution_count": 40,
   "id": "e959f376",
   "metadata": {},
   "outputs": [
    {
     "data": {
      "text/plain": [
       "0    726\n",
       "1    274\n",
       "Name: 流失, dtype: int64"
      ]
     },
     "execution_count": 40,
     "metadata": {},
     "output_type": "execute_result"
    }
   ],
   "source": [
    "# 显示类别型特征列的所有取值及出现次数\n",
    "data.流失.value_counts()  #默认按照数量从多到少的顺序排列"
   ]
  },
  {
   "cell_type": "code",
   "execution_count": 8,
   "id": "57875edc",
   "metadata": {},
   "outputs": [],
   "source": [
    "# 生成X和y\n",
    "feature_cols = ['居住地','年龄','婚姻状况','收入','教育水平','性别', '家庭人数', '开通月数', '无线服务', '基本费用','免费部分','无线费用','电子支付','套餐类型']  #提取认为对于分类有用的特征列\n",
    "X = data[feature_cols]\n",
    "y = data.流失"
   ]
  },
  {
   "cell_type": "code",
   "execution_count": 9,
   "id": "b47e4871",
   "metadata": {},
   "outputs": [],
   "source": [
    "# 划分训练集和测试集\n",
    "from sklearn.model_selection import train_test_split\n",
    "\n",
    "X_train, X_test, y_train, y_test = train_test_split(X, y, test_size=0.30)"
   ]
  },
  {
   "cell_type": "code",
   "execution_count": 10,
   "id": "cb1ab15e",
   "metadata": {},
   "outputs": [],
   "source": [
    "#bagging\n",
    "from sklearn.ensemble import BaggingClassifier\n",
    "from sklearn.tree import DecisionTreeClassifier\n",
    "from sklearn.model_selection import GridSearchCV\n",
    "from sklearn.tree import DecisionTreeClassifier"
   ]
  },
  {
   "cell_type": "code",
   "execution_count": 16,
   "id": "11b26c3a",
   "metadata": {},
   "outputs": [],
   "source": [
    "parameters = {'n_estimators':[20, 50, 100],\n",
    "              'max_samples':[0.2, 0.5, 0.8],\n",
    "             }\n",
    "bag_clf = GridSearchCV(BaggingClassifier(), param_grid = parameters, cv = 5, scoring='accuracy')"
   ]
  },
  {
   "cell_type": "code",
   "execution_count": 17,
   "id": "5e37e821",
   "metadata": {},
   "outputs": [
    {
     "data": {
      "text/plain": [
       "GridSearchCV(cv=5, estimator=BaggingClassifier(),\n",
       "             param_grid={'max_samples': [0.2, 0.5, 0.8],\n",
       "                         'n_estimators': [20, 50, 100]},\n",
       "             scoring='accuracy')"
      ]
     },
     "execution_count": 17,
     "metadata": {},
     "output_type": "execute_result"
    }
   ],
   "source": [
    "bag_clf.fit(X_train, y_train)"
   ]
  },
  {
   "cell_type": "code",
   "execution_count": 18,
   "id": "5c728b06",
   "metadata": {},
   "outputs": [
    {
     "name": "stdout",
     "output_type": "stream",
     "text": [
      "{'max_samples': 0.2, 'n_estimators': 50}\n",
      "0.7528571428571429\n"
     ]
    }
   ],
   "source": [
    "print(bag_clf.best_params_)\n",
    "print(bag_clf.best_score_)"
   ]
  },
  {
   "cell_type": "code",
   "execution_count": 19,
   "id": "29bc8b60",
   "metadata": {},
   "outputs": [],
   "source": [
    "y_pred = bag_clf.predict(X_test)"
   ]
  },
  {
   "cell_type": "code",
   "execution_count": 20,
   "id": "d133982a",
   "metadata": {},
   "outputs": [
    {
     "name": "stdout",
     "output_type": "stream",
     "text": [
      "0.7566666666666667\n",
      "              precision    recall  f1-score   support\n",
      "\n",
      "           0       0.78      0.92      0.85       216\n",
      "           1       0.62      0.33      0.43        84\n",
      "\n",
      "    accuracy                           0.76       300\n",
      "   macro avg       0.70      0.63      0.64       300\n",
      "weighted avg       0.74      0.76      0.73       300\n",
      "\n"
     ]
    }
   ],
   "source": [
    "# 输出对测试数据预测的精度、查准率、查全率和F1分数\n",
    "from sklearn.metrics import accuracy_score\n",
    "from sklearn.metrics import classification_report\n",
    "print(accuracy_score(y_test, y_pred))\n",
    "print(classification_report(y_test, y_pred))"
   ]
  },
  {
   "cell_type": "code",
   "execution_count": 21,
   "id": "edb91dbb",
   "metadata": {},
   "outputs": [],
   "source": [
    "#boosting\n",
    "from sklearn.ensemble import GradientBoostingClassifier\n",
    "import warnings"
   ]
  },
  {
   "cell_type": "code",
   "execution_count": 22,
   "id": "0cc07c98",
   "metadata": {},
   "outputs": [],
   "source": [
    "warnings.filterwarnings(\"ignore\")\n",
    "parameters = {'n_estimators':[20, 50, 100, 200, 300, 400],\n",
    "              'subsample':[0.2, 0.5, 0.8],\n",
    "              'max_depth':[1, 2, 3],\n",
    "              'max_features':[3, 4, 5]}\n",
    "gbc_clf = GridSearchCV(GradientBoostingClassifier(),param_grid = parameters, cv = 5, scoring='accuracy')"
   ]
  },
  {
   "cell_type": "code",
   "execution_count": 23,
   "id": "b8a45cf8",
   "metadata": {},
   "outputs": [
    {
     "data": {
      "text/plain": [
       "GridSearchCV(cv=5, estimator=GradientBoostingClassifier(),\n",
       "             param_grid={'max_depth': [1, 2, 3], 'max_features': [3, 4, 5],\n",
       "                         'n_estimators': [20, 50, 100, 200, 300, 400],\n",
       "                         'subsample': [0.2, 0.5, 0.8]},\n",
       "             scoring='accuracy')"
      ]
     },
     "execution_count": 23,
     "metadata": {},
     "output_type": "execute_result"
    }
   ],
   "source": [
    "gbc_clf.fit(X_train, y_train)"
   ]
  },
  {
   "cell_type": "code",
   "execution_count": 24,
   "id": "17ea2371",
   "metadata": {},
   "outputs": [
    {
     "name": "stdout",
     "output_type": "stream",
     "text": [
      "{'max_depth': 3, 'max_features': 4, 'n_estimators': 20, 'subsample': 0.5}\n",
      "0.7714285714285714\n"
     ]
    }
   ],
   "source": [
    "print(gbc_clf.best_params_)\n",
    "print(gbc_clf.best_score_)"
   ]
  },
  {
   "cell_type": "code",
   "execution_count": 25,
   "id": "2de71939",
   "metadata": {},
   "outputs": [],
   "source": [
    "y_pred = gbc_clf.predict(X_test)"
   ]
  },
  {
   "cell_type": "code",
   "execution_count": 26,
   "id": "73e01686",
   "metadata": {},
   "outputs": [
    {
     "name": "stdout",
     "output_type": "stream",
     "text": [
      "0.7466666666666667\n",
      "              precision    recall  f1-score   support\n",
      "\n",
      "           0       0.77      0.92      0.84       216\n",
      "           1       0.59      0.31      0.41        84\n",
      "\n",
      "    accuracy                           0.75       300\n",
      "   macro avg       0.68      0.61      0.62       300\n",
      "weighted avg       0.72      0.75      0.72       300\n",
      "\n"
     ]
    }
   ],
   "source": [
    "# 输出对测试数据预测的精度、查准率、查全率和F1分数\n",
    "print(accuracy_score(y_test, y_pred))\n",
    "print(classification_report(y_test, y_pred))"
   ]
  },
  {
   "cell_type": "code",
   "execution_count": 27,
   "id": "c262797f",
   "metadata": {},
   "outputs": [],
   "source": [
    "#stacking\n",
    "from sklearn.ensemble import StackingClassifier\n",
    "from sklearn.linear_model import LogisticRegression"
   ]
  },
  {
   "cell_type": "code",
   "execution_count": 28,
   "id": "d0ebb25e",
   "metadata": {},
   "outputs": [],
   "source": [
    "#estim_list = ()"
   ]
  },
  {
   "cell_type": "code",
   "execution_count": 29,
   "id": "9dff528d",
   "metadata": {},
   "outputs": [],
   "source": [
    "st_clf = StackingClassifier(estimators = [('gbc',GradientBoostingClassifier(max_depth=1, max_features=3, n_estimators=20, subsample=0.5)),\n",
    "                                          ('bag',BaggingClassifier(max_samples=0.3,n_estimators=20))] , \n",
    "                            final_estimator = LogisticRegression())\n",
    "st_clf._estimator_type = \"classifier\""
   ]
  },
  {
   "cell_type": "code",
   "execution_count": 30,
   "id": "2c531947",
   "metadata": {},
   "outputs": [
    {
     "data": {
      "text/plain": [
       "StackingClassifier(estimators=[('gbc',\n",
       "                                GradientBoostingClassifier(max_depth=1,\n",
       "                                                           max_features=3,\n",
       "                                                           n_estimators=20,\n",
       "                                                           subsample=0.5)),\n",
       "                               ('bag',\n",
       "                                BaggingClassifier(max_samples=0.3,\n",
       "                                                  n_estimators=20))],\n",
       "                   final_estimator=LogisticRegression())"
      ]
     },
     "execution_count": 30,
     "metadata": {},
     "output_type": "execute_result"
    }
   ],
   "source": [
    "st_clf.fit(X_train, y_train)"
   ]
  },
  {
   "cell_type": "code",
   "execution_count": 31,
   "id": "e950a34b",
   "metadata": {},
   "outputs": [],
   "source": [
    "y_pred = st_clf.predict(X_test)"
   ]
  },
  {
   "cell_type": "code",
   "execution_count": 32,
   "id": "2d06fa7b",
   "metadata": {},
   "outputs": [
    {
     "name": "stdout",
     "output_type": "stream",
     "text": [
      "0.7666666666666667\n",
      "              precision    recall  f1-score   support\n",
      "\n",
      "           0       0.78      0.95      0.85       216\n",
      "           1       0.69      0.30      0.42        84\n",
      "\n",
      "    accuracy                           0.77       300\n",
      "   macro avg       0.74      0.62      0.64       300\n",
      "weighted avg       0.75      0.77      0.73       300\n",
      "\n"
     ]
    }
   ],
   "source": [
    "# 输出对测试数据预测的精度、查准率、查全率和F1分数\n",
    "print(accuracy_score(y_test, y_pred))\n",
    "print(classification_report(y_test, y_pred))"
   ]
  },
  {
   "cell_type": "code",
   "execution_count": null,
   "id": "17b4a101",
   "metadata": {},
   "outputs": [],
   "source": []
  },
  {
   "cell_type": "code",
   "execution_count": null,
   "id": "b57d71b4",
   "metadata": {},
   "outputs": [],
   "source": []
  }
 ],
 "metadata": {
  "kernelspec": {
   "display_name": "Python 3",
   "language": "python",
   "name": "python3"
  },
  "language_info": {
   "codemirror_mode": {
    "name": "ipython",
    "version": 3
   },
   "file_extension": ".py",
   "mimetype": "text/x-python",
   "name": "python",
   "nbconvert_exporter": "python",
   "pygments_lexer": "ipython3",
   "version": "3.8.8"
  }
 },
 "nbformat": 4,
 "nbformat_minor": 5
}
