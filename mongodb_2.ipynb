{
 "cells": [
  {
   "cell_type": "code",
   "execution_count": 1,
   "metadata": {},
   "outputs": [],
   "source": [
    "import pymongo\n",
    "from pymongo import MongoClient\n",
    "import pprint"
   ]
  },
  {
   "cell_type": "code",
   "execution_count": 2,
   "metadata": {},
   "outputs": [
    {
     "name": "stdout",
     "output_type": "stream",
     "text": [
      "MongoClient(host=['localhost:27017'], document_class=dict, tz_aware=False, connect=True)\n"
     ]
    }
   ],
   "source": [
    "#连接mongodb\n",
    "client = MongoClient()\n",
    "print(client)"
   ]
  },
  {
   "cell_type": "code",
   "execution_count": 3,
   "metadata": {},
   "outputs": [],
   "source": [
    "def handler_doc():\n",
    "    \"\"\"操作文档\"\"\"\n",
    "    \n",
    "    #创建数据库及集合\n",
    "    py_collection = client.python.py_collection\n",
    "    \n",
    "    #插入单个文档\n",
    "    #py_collection.insert({\"_id\":1,\"name\":\"张三\",\"age\":18})\n",
    "    #py_collection.insert_one({\"_id\":2,\"name\":\"李四\",\"age\":25})\n",
    "    \n",
    "    #插入多个文档\n",
    "    doc1 = {\"_id\":3,\"name\":\"王五\",\"age\":20}\n",
    "    doc2 = {\"_id\":4,\"name\":\"赵六\",\"age\":21}\n",
    "    doc3 = {\"_id\":5,\"name\":\"孙七\",\"age\":22}\n",
    "    doc4 = {\"_id\":6,\"name\":\"周八\",\"age\":23}\n",
    "    #py_collection.insert_many([doc1,doc2,doc3,doc4])\n",
    "    \n",
    "    #更改数据\n",
    "    #filter:更改条件，update：更改的参数，upsert：\n",
    "    doc5 = py_collection.update_one(filter={'name':'李四'},update={'$set':{'name':'吴九','age':19}})#更改单个文档\n",
    "    print(doc5)\n",
    "    doc6 = py_collection.update_many(filter={'name':'王五'},update={'$set':{'name':'郑十','age':29}})#更改多个文档\n",
    "    print(doc6)\n",
    "    \n",
    "    #update_doc = {'name':'吴九','age':19}\n",
    "    #py_collection.update_one(filter={'name':'李四'},update={'$set':update_doc})\n",
    "    \n",
    "    #删除数据\n",
    "    doc7 = py_collection.delete_one({'name':\"周八\"})#删除单条\n",
    "    print(doc7)\n",
    "    doc8 = py_collection.delete_many({'name':\"张三\"})#删除单条\n",
    "    print(doc8)"
   ]
  },
  {
   "cell_type": "code",
   "execution_count": null,
   "metadata": {},
   "outputs": [],
   "source": [
    "handler_doc()"
   ]
  },
  {
   "cell_type": "code",
   "execution_count": null,
   "metadata": {},
   "outputs": [],
   "source": [
    "#查询集合中的文档\n",
    "collection_1 = client.python.py_collection\n",
    "for col in collection_1.find():\n",
    "    pprint.pprint(col)"
   ]
  },
  {
   "cell_type": "code",
   "execution_count": null,
   "metadata": {},
   "outputs": [],
   "source": [
    "#自定义文档输出函数\n",
    "def print_doc(x):\n",
    "    for i in x:\n",
    "        print(i)"
   ]
  },
  {
   "cell_type": "code",
   "execution_count": null,
   "metadata": {},
   "outputs": [],
   "source": [
    "print_doc(collection_1.find())"
   ]
  },
  {
   "cell_type": "code",
   "execution_count": null,
   "metadata": {},
   "outputs": [],
   "source": [
    "#and操作\n",
    "def test_and():\n",
    "    doc = client.python.py_collection.find({\n",
    "        \"$and\":[\n",
    "            {\"_id\":{\"$gte\":3,\"$lte\":4}},\n",
    "            {\"age\":{\"$gte\":4}}\n",
    "        ]\n",
    "    })\n",
    "    print_doc(doc)"
   ]
  },
  {
   "cell_type": "code",
   "execution_count": null,
   "metadata": {},
   "outputs": [],
   "source": [
    "test_and()"
   ]
  },
  {
   "cell_type": "code",
   "execution_count": null,
   "metadata": {},
   "outputs": [],
   "source": [
    "#or操作\n",
    "def test_or():\n",
    "    doc = client.python.py_collection.find({\n",
    "        \"$or\":[\n",
    "            {\"_id\":{\"$gte\":0,\"$lte\":1}},\n",
    "            {\"age\":{\"$lte\":4}},\n",
    "            {\"name\":\"孙七\"}\n",
    "        ]\n",
    "    })\n",
    "    print_doc(doc)"
   ]
  },
  {
   "cell_type": "code",
   "execution_count": null,
   "metadata": {},
   "outputs": [],
   "source": [
    "test_or()"
   ]
  },
  {
   "cell_type": "code",
   "execution_count": null,
   "metadata": {},
   "outputs": [],
   "source": [
    "#正则表达式\n",
    "def test_regex():\n",
    "    #doc = client.python.py_collection.find({'name':{\"$regex\":'^吴'}})\n",
    "    doc = client.python.py_collection.find({'name':{\"$regex\":'^吴.*?(九|十)$'}})#以“吴”开头、以“九”或者“十”结尾\n",
    "    print_doc(doc)"
   ]
  },
  {
   "cell_type": "code",
   "execution_count": null,
   "metadata": {},
   "outputs": [],
   "source": [
    "test_regex()"
   ]
  },
  {
   "cell_type": "code",
   "execution_count": null,
   "metadata": {},
   "outputs": [],
   "source": [
    "#数组\n",
    "doc1 = {\"name\":\"王五\",\"age\":20,\"score\":[88,90,86,95]}\n",
    "doc2 = {\"name\":\"赵六\",\"age\":21,\"score\":[90,96,87,90]}\n",
    "doc3 = {\"name\":\"孙七\",\"age\":22,\"score\":[78,92,85,88]}\n",
    "doc4 = {\"name\":\"周八\",\"age\":23,\"score\":[66,77,88,99]}\n",
    "client.python.py_collection.insert_many([doc1,doc2,doc3,doc4])\n",
    "\n",
    "def test_array():\n",
    "    doc = client.python.py_collection.find(\n",
    "    {},\n",
    "    {\n",
    "        \"_id\":0,\n",
    "        \"name\":1,\n",
    "        \"age\":1,\n",
    "        \"score\":{\"$slice\":[0,2]},\n",
    "    })\n",
    "    print_doc(doc)"
   ]
  },
  {
   "cell_type": "code",
   "execution_count": null,
   "metadata": {},
   "outputs": [],
   "source": [
    "test_array()"
   ]
  },
  {
   "cell_type": "code",
   "execution_count": null,
   "metadata": {},
   "outputs": [],
   "source": [
    "#排序\n",
    "def test_sort():\n",
    "    #按姓名正序\n",
    "    doc = client.python.py_collection.find({},{\"name\":1}).sort(\"name\",pymongo.ASCENDING)\n",
    "    print(\"#按姓名正序：\")\n",
    "    print_doc(doc)\n",
    "    \n",
    "    #按年龄倒叙，按_id正序\n",
    "    doc = client.python.py_collection.find({},{\"age\":-1,\"_id\":1}).sort([(\"age\",pymongo.DESCENDING),(\"_id\",pymongo.ASCENDING)])\n",
    "    print(\"\\n#按年龄倒叙，按_id正序：\")\n",
    "    print_doc(doc)"
   ]
  },
  {
   "cell_type": "code",
   "execution_count": null,
   "metadata": {
    "scrolled": true
   },
   "outputs": [],
   "source": [
    "test_sort()"
   ]
  },
  {
   "cell_type": "code",
   "execution_count": null,
   "metadata": {},
   "outputs": [],
   "source": [
    "#分页\n",
    "def test_page(pageSize,pageNum):\n",
    "    #doc = client.python.py_collection.find().skip(0).limit(2)\n",
    "    doc = client.python.py_collection.find().skip((pageNum-1)*pageSize).limit(pageSize)\n",
    "    print_doc(doc)"
   ]
  },
  {
   "cell_type": "code",
   "execution_count": null,
   "metadata": {},
   "outputs": [],
   "source": [
    "test_page(2,2)"
   ]
  },
  {
   "cell_type": "code",
   "execution_count": null,
   "metadata": {},
   "outputs": [],
   "source": [
    "#分组聚合\n",
    "db = client.Student_Task\n",
    "\n",
    "def test_group():\n",
    "    doc = db.Task2_MXQ.aggregate([{\"$group\":{\"_id\":\"$顾客编号\",\"消费总额\":{\"$sum\":\"$销售金额\"}}},\n",
    "                        {\"$match\":{\"消费总额\":{\"$gte\":100}}}])\n",
    "    print_doc(doc)"
   ]
  },
  {
   "cell_type": "code",
   "execution_count": null,
   "metadata": {
    "scrolled": true
   },
   "outputs": [],
   "source": [
    "test_group()"
   ]
  },
  {
   "cell_type": "code",
   "execution_count": null,
   "metadata": {},
   "outputs": [],
   "source": [
    "#排序限制过滤\n",
    "def test_sort_limit_skip():\n",
    "    doc = db.Task2_MXQ.aggregate([\n",
    "        {\"$group\":{\"_id\":\"$顾客编号\",\"消费总额\":{\"$sum\":\"$销售金额\"}}},\n",
    "        {\"$sort\":{\"消费总额\":-1}},\n",
    "        #{\"$skip\":10},\n",
    "        {\"$limit\":2}  \n",
    "    ])\n",
    "    print_doc(doc)"
   ]
  },
  {
   "cell_type": "code",
   "execution_count": null,
   "metadata": {},
   "outputs": [],
   "source": [
    "test_sort_limit_skip()"
   ]
  },
  {
   "cell_type": "code",
   "execution_count": null,
   "metadata": {},
   "outputs": [],
   "source": [
    "#随机获取\n",
    "def test_sample():\n",
    "    doc = db.Task2_MXQ.aggregate([\n",
    "        {\"$sample\":{\"size\":3}}\n",
    "    ])\n",
    "    print_doc(doc)"
   ]
  },
  {
   "cell_type": "code",
   "execution_count": null,
   "metadata": {},
   "outputs": [],
   "source": [
    "test_sample()"
   ]
  },
  {
   "cell_type": "code",
   "execution_count": null,
   "metadata": {},
   "outputs": [],
   "source": [
    "#操作字符串\n",
    "def test_str():\n",
    "    \n",
    "    #截取字符串\n",
    "    doc = db.Task2_MXQ.aggregate([\n",
    "        {\n",
    "            \"$project\":{\n",
    "                \"顾客编号\":1,\n",
    "                \"大类名称\":1,\n",
    "                \"截取编码\":{\"$substr\":[\"$商品编码\",0,2]}\n",
    "            }\n",
    "        }\n",
    "    ])\n",
    "    print_doc(doc)\n",
    "    \n",
    "    #拼接\n",
    "    doc = db.Task2_MXQ.aggregate([\n",
    "        {\n",
    "            \"$project\":{\n",
    "                \"顾客编号\":1,\n",
    "                \"大类名称\":1,\n",
    "                \"中类_小类名称\":{\"$concat\":[\"$中类名称\",\"_\",\"$小类名称\"]}\n",
    "            }\n",
    "        }\n",
    "    ])\n",
    "    print_doc(doc)\n",
    "    \n",
    "    #英文大小写转换($toLower/$toUpper)\n",
    "    doc = db.Task2_MXQ.aggregate([\n",
    "        {\n",
    "            \"$project\":{\n",
    "                \"顾客编号\":1,\n",
    "                \"大类名称\":1,\n",
    "                \"商品编码\":{\"$toLower\":\"$商品编码\"}\n",
    "            }\n",
    "        }\n",
    "    ])\n",
    "    print_doc(doc)"
   ]
  },
  {
   "cell_type": "code",
   "execution_count": null,
   "metadata": {},
   "outputs": [],
   "source": [
    "test_str()"
   ]
  },
  {
   "cell_type": "code",
   "execution_count": null,
   "metadata": {},
   "outputs": [],
   "source": []
  }
 ],
 "metadata": {
  "kernelspec": {
   "display_name": "Python 3",
   "language": "python",
   "name": "python3"
  },
  "language_info": {
   "codemirror_mode": {
    "name": "ipython",
    "version": 3
   },
   "file_extension": ".py",
   "mimetype": "text/x-python",
   "name": "python",
   "nbconvert_exporter": "python",
   "pygments_lexer": "ipython3",
   "version": "3.8.8"
  }
 },
 "nbformat": 4,
 "nbformat_minor": 4
}
