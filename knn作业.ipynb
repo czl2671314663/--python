{
 "cells": [
  {
   "cell_type": "code",
   "execution_count": 1,
   "id": "beaca212",
   "metadata": {},
   "outputs": [],
   "source": [
    "import numpy as np  \n",
    "import matplotlib.pyplot as plt  \n",
    "import pandas as pd  "
   ]
  },
  {
   "cell_type": "code",
   "execution_count": 2,
   "id": "9106b6c2",
   "metadata": {},
   "outputs": [],
   "source": [
    "url = \"cardio_train.csv\"\n",
    "\n",
    "dataset = pd.read_csv(url)  "
   ]
  },
  {
   "cell_type": "code",
   "execution_count": 3,
   "id": "f03cb530",
   "metadata": {},
   "outputs": [
    {
     "data": {
      "text/html": [
       "<div>\n",
       "<style scoped>\n",
       "    .dataframe tbody tr th:only-of-type {\n",
       "        vertical-align: middle;\n",
       "    }\n",
       "\n",
       "    .dataframe tbody tr th {\n",
       "        vertical-align: top;\n",
       "    }\n",
       "\n",
       "    .dataframe thead th {\n",
       "        text-align: right;\n",
       "    }\n",
       "</style>\n",
       "<table border=\"1\" class=\"dataframe\">\n",
       "  <thead>\n",
       "    <tr style=\"text-align: right;\">\n",
       "      <th></th>\n",
       "      <th>age</th>\n",
       "      <th>gender</th>\n",
       "      <th>height</th>\n",
       "      <th>weight</th>\n",
       "      <th>ap_hi</th>\n",
       "      <th>ap_lo</th>\n",
       "      <th>cholesterol</th>\n",
       "      <th>gluc</th>\n",
       "      <th>smoke</th>\n",
       "      <th>alco</th>\n",
       "      <th>active</th>\n",
       "      <th>cardio</th>\n",
       "    </tr>\n",
       "  </thead>\n",
       "  <tbody>\n",
       "    <tr>\n",
       "      <th>0</th>\n",
       "      <td>71</td>\n",
       "      <td>2</td>\n",
       "      <td>168</td>\n",
       "      <td>62.0</td>\n",
       "      <td>110</td>\n",
       "      <td>80</td>\n",
       "      <td>1</td>\n",
       "      <td>1</td>\n",
       "      <td>0</td>\n",
       "      <td>0</td>\n",
       "      <td>1</td>\n",
       "      <td>0</td>\n",
       "    </tr>\n",
       "    <tr>\n",
       "      <th>1</th>\n",
       "      <td>66</td>\n",
       "      <td>1</td>\n",
       "      <td>156</td>\n",
       "      <td>85.0</td>\n",
       "      <td>140</td>\n",
       "      <td>90</td>\n",
       "      <td>3</td>\n",
       "      <td>1</td>\n",
       "      <td>0</td>\n",
       "      <td>0</td>\n",
       "      <td>1</td>\n",
       "      <td>1</td>\n",
       "    </tr>\n",
       "    <tr>\n",
       "      <th>2</th>\n",
       "      <td>70</td>\n",
       "      <td>1</td>\n",
       "      <td>165</td>\n",
       "      <td>64.0</td>\n",
       "      <td>130</td>\n",
       "      <td>70</td>\n",
       "      <td>3</td>\n",
       "      <td>1</td>\n",
       "      <td>0</td>\n",
       "      <td>0</td>\n",
       "      <td>0</td>\n",
       "      <td>1</td>\n",
       "    </tr>\n",
       "    <tr>\n",
       "      <th>3</th>\n",
       "      <td>73</td>\n",
       "      <td>2</td>\n",
       "      <td>169</td>\n",
       "      <td>82.0</td>\n",
       "      <td>150</td>\n",
       "      <td>100</td>\n",
       "      <td>1</td>\n",
       "      <td>1</td>\n",
       "      <td>0</td>\n",
       "      <td>0</td>\n",
       "      <td>1</td>\n",
       "      <td>1</td>\n",
       "    </tr>\n",
       "    <tr>\n",
       "      <th>4</th>\n",
       "      <td>74</td>\n",
       "      <td>1</td>\n",
       "      <td>156</td>\n",
       "      <td>56.0</td>\n",
       "      <td>100</td>\n",
       "      <td>60</td>\n",
       "      <td>1</td>\n",
       "      <td>1</td>\n",
       "      <td>0</td>\n",
       "      <td>0</td>\n",
       "      <td>0</td>\n",
       "      <td>0</td>\n",
       "    </tr>\n",
       "  </tbody>\n",
       "</table>\n",
       "</div>"
      ],
      "text/plain": [
       "   age  gender  height  weight  ap_hi  ap_lo  cholesterol  gluc  smoke  alco  \\\n",
       "0   71       2     168    62.0    110     80            1     1      0     0   \n",
       "1   66       1     156    85.0    140     90            3     1      0     0   \n",
       "2   70       1     165    64.0    130     70            3     1      0     0   \n",
       "3   73       2     169    82.0    150    100            1     1      0     0   \n",
       "4   74       1     156    56.0    100     60            1     1      0     0   \n",
       "\n",
       "   active  cardio  \n",
       "0       1       0  \n",
       "1       1       1  \n",
       "2       0       1  \n",
       "3       1       1  \n",
       "4       0       0  "
      ]
     },
     "execution_count": 3,
     "metadata": {},
     "output_type": "execute_result"
    }
   ],
   "source": [
    "dataset.head() "
   ]
  },
  {
   "cell_type": "code",
   "execution_count": 4,
   "id": "79866266",
   "metadata": {},
   "outputs": [],
   "source": [
    "X = dataset.iloc[:, :-1].values  \n",
    "y = dataset.iloc[:, 11].values  "
   ]
  },
  {
   "cell_type": "code",
   "execution_count": 5,
   "id": "1aefbfb6",
   "metadata": {},
   "outputs": [],
   "source": [
    "from sklearn.model_selection import train_test_split  \n",
    "X_train, X_test, y_train, y_test = train_test_split(X, y, test_size=0.20)  "
   ]
  },
  {
   "cell_type": "code",
   "execution_count": 6,
   "id": "f279caa4",
   "metadata": {},
   "outputs": [],
   "source": [
    "from sklearn.preprocessing import StandardScaler  \n",
    "scaler = StandardScaler()  \n",
    "scaler.fit(X_train)\n",
    "\n",
    "X_train = scaler.transform(X_train)  \n",
    "X_test = scaler.transform(X_test)  "
   ]
  },
  {
   "cell_type": "code",
   "execution_count": 7,
   "id": "da13f1bb",
   "metadata": {},
   "outputs": [
    {
     "data": {
      "text/plain": [
       "KNeighborsClassifier()"
      ]
     },
     "execution_count": 7,
     "metadata": {},
     "output_type": "execute_result"
    }
   ],
   "source": [
    "from sklearn.neighbors import KNeighborsClassifier  \n",
    "classifier = KNeighborsClassifier(n_neighbors=5) \n",
    "classifier.fit(X_train, y_train)  "
   ]
  },
  {
   "cell_type": "code",
   "execution_count": 8,
   "id": "f4400fbe",
   "metadata": {},
   "outputs": [],
   "source": [
    "y_pred = classifier.predict(X_test)  "
   ]
  },
  {
   "cell_type": "code",
   "execution_count": 9,
   "id": "db10adb8",
   "metadata": {},
   "outputs": [
    {
     "name": "stdout",
     "output_type": "stream",
     "text": [
      "[[4703 2287]\n",
      " [2553 4457]]\n",
      "              precision    recall  f1-score   support\n",
      "\n",
      "           0       0.65      0.67      0.66      6990\n",
      "           1       0.66      0.64      0.65      7010\n",
      "\n",
      "    accuracy                           0.65     14000\n",
      "   macro avg       0.65      0.65      0.65     14000\n",
      "weighted avg       0.65      0.65      0.65     14000\n",
      "\n",
      "Test set score: 0.65\n"
     ]
    }
   ],
   "source": [
    "from sklearn.metrics import classification_report, confusion_matrix  \n",
    "print(confusion_matrix(y_test, y_pred))  \n",
    "print(classification_report(y_test, y_pred))    \n",
    "print(\"Test set score: {:.2f}\".format(np.mean(y_pred == y_test)))"
   ]
  },
  {
   "cell_type": "code",
   "execution_count": 10,
   "id": "239b9342",
   "metadata": {},
   "outputs": [],
   "source": [
    "#error = []\n",
    "\n",
    "#for i in range(10, 60):  \n",
    "#    knn = KNeighborsClassifier(n_neighbors=i)\n",
    "#    knn.fit(X_train, y_train)\n",
    "#    pred_i = knn.predict(X_test)\n",
    "#    error.append(np.mean(pred_i != y_test))"
   ]
  },
  {
   "cell_type": "code",
   "execution_count": 11,
   "id": "edd40850",
   "metadata": {},
   "outputs": [],
   "source": [
    "#plt.figure(figsize=(20, 6))  \n",
    "#plt.plot(range(10, 60), error, color='red', linestyle='dashed', marker='o',  \n",
    "#         markerfacecolor='blue', markersize=10)\n",
    "#plt.title('Error Rate K Value')  \n",
    "#plt.xlabel('K Value')  \n",
    "#plt.ylabel('Mean Error') "
   ]
  },
  {
   "cell_type": "code",
   "execution_count": 12,
   "id": "38fdda3a",
   "metadata": {},
   "outputs": [
    {
     "name": "stdout",
     "output_type": "stream",
     "text": [
      "                age        gender        height        weight         ap_hi  \\\n",
      "count  70000.000000  70000.000000  70000.000000  70000.000000  70000.000000   \n",
      "mean      68.437614      1.349571    164.359229     74.205690    128.817286   \n",
      "std        6.759536      0.476838      8.210126     14.395757    154.011419   \n",
      "min       57.000000      1.000000     55.000000     10.000000   -150.000000   \n",
      "25%       63.000000      1.000000    159.000000     65.000000    120.000000   \n",
      "50%       68.000000      1.000000    165.000000     72.000000    120.000000   \n",
      "75%       73.000000      2.000000    170.000000     82.000000    140.000000   \n",
      "max       92.000000      2.000000    250.000000    200.000000  16020.000000   \n",
      "\n",
      "              ap_lo   cholesterol          gluc         smoke          alco  \\\n",
      "count  70000.000000  70000.000000  70000.000000  70000.000000  70000.000000   \n",
      "mean      96.630414      1.366871      1.226457      0.088129      0.053771   \n",
      "std      188.472530      0.680250      0.572270      0.283484      0.225568   \n",
      "min      -70.000000      1.000000      1.000000      0.000000      0.000000   \n",
      "25%       80.000000      1.000000      1.000000      0.000000      0.000000   \n",
      "50%       80.000000      1.000000      1.000000      0.000000      0.000000   \n",
      "75%       90.000000      2.000000      1.000000      0.000000      0.000000   \n",
      "max    11000.000000      3.000000      3.000000      1.000000      1.000000   \n",
      "\n",
      "             active        cardio  \n",
      "count  70000.000000  70000.000000  \n",
      "mean       0.803729      0.499700  \n",
      "std        0.397179      0.500003  \n",
      "min        0.000000      0.000000  \n",
      "25%        1.000000      0.000000  \n",
      "50%        1.000000      0.000000  \n",
      "75%        1.000000      1.000000  \n",
      "max        1.000000      1.000000  \n"
     ]
    }
   ],
   "source": [
    "import matplotlib.pyplot as plt\n",
    "import seaborn as sns  #作图\n",
    "from pylab import mpl   \n",
    "mpl.rcParams['font.sans-serif'] = ['Kaiti']\n",
    "# 显示数值型特征列的描述统计信息\n",
    "print(dataset.describe())  "
   ]
  },
  {
   "cell_type": "code",
   "execution_count": 13,
   "id": "ac7dc005",
   "metadata": {},
   "outputs": [
    {
     "name": "stdout",
     "output_type": "stream",
     "text": [
      "                  age    gender    height    weight     ap_hi     ap_lo  \\\n",
      "age          1.000000  0.023050  0.081467 -0.053646 -0.020955 -0.017666   \n",
      "gender       0.023050  1.000000  0.499033  0.155406  0.006005  0.015254   \n",
      "height       0.081467  0.499033  1.000000  0.290968  0.005488  0.006150   \n",
      "weight      -0.053646  0.155406  0.290968  1.000000  0.030702  0.043710   \n",
      "ap_hi       -0.020955  0.006005  0.005488  0.030702  1.000000  0.016086   \n",
      "ap_lo       -0.017666  0.015254  0.006150  0.043710  0.016086  1.000000   \n",
      "cholesterol -0.154499 -0.035821 -0.050226  0.141768  0.023778  0.024019   \n",
      "gluc        -0.098835 -0.020491 -0.018595  0.106857  0.011841  0.010806   \n",
      "smoke        0.047485  0.338135  0.187989  0.067780 -0.000922  0.005186   \n",
      "alco         0.029409  0.170966  0.094419  0.067113  0.001408  0.010601   \n",
      "active       0.010000  0.005866 -0.006570 -0.016867 -0.000033  0.004780   \n",
      "cardio      -0.238062  0.008109 -0.010821  0.181660  0.054475  0.065719   \n",
      "\n",
      "             cholesterol      gluc     smoke      alco    active    cardio  \n",
      "age            -0.154499 -0.098835  0.047485  0.029409  0.010000 -0.238062  \n",
      "gender         -0.035821 -0.020491  0.338135  0.170966  0.005866  0.008109  \n",
      "height         -0.050226 -0.018595  0.187989  0.094419 -0.006570 -0.010821  \n",
      "weight          0.141768  0.106857  0.067780  0.067113 -0.016867  0.181660  \n",
      "ap_hi           0.023778  0.011841 -0.000922  0.001408 -0.000033  0.054475  \n",
      "ap_lo           0.024019  0.010806  0.005186  0.010601  0.004780  0.065719  \n",
      "cholesterol     1.000000  0.451578  0.010354  0.035760  0.009911  0.221147  \n",
      "gluc            0.451578  1.000000 -0.004756  0.011246 -0.006770  0.089307  \n",
      "smoke           0.010354 -0.004756  1.000000  0.340094  0.025858 -0.015486  \n",
      "alco            0.035760  0.011246  0.340094  1.000000  0.025476 -0.007330  \n",
      "active          0.009911 -0.006770  0.025858  0.025476  1.000000 -0.035653  \n",
      "cardio          0.221147  0.089307 -0.015486 -0.007330 -0.035653  1.000000  \n"
     ]
    }
   ],
   "source": [
    "dataset_corr = dataset.corr(method='pearson') #生成相关性矩阵\n",
    "print(dataset_corr)      #显示相关性矩阵，越接近于0，相关性越弱，绝对值越大，相关性越强（正相关或者负相关），相关性强，则对预测的作用越大"
   ]
  },
  {
   "cell_type": "code",
   "execution_count": 14,
   "id": "1c3f014f",
   "metadata": {},
   "outputs": [],
   "source": [
    "import pandas as pd\n",
    "import numpy as np  \n",
    "from sklearn.metrics import r2_score\n",
    "from sklearn.metrics import classification_report, confusion_matrix  \n",
    "from sklearn.metrics import accuracy_score\n",
    "from sklearn.metrics import classification_report\n",
    "from sklearn import metrics  "
   ]
  },
  {
   "cell_type": "code",
   "execution_count": 15,
   "id": "1e243938",
   "metadata": {},
   "outputs": [
    {
     "name": "stdout",
     "output_type": "stream",
     "text": [
      "              precision    recall  f1-score   support\n",
      "\n",
      "           0       0.71      0.74      0.73      6990\n",
      "           1       0.73      0.70      0.72      7010\n",
      "\n",
      "    accuracy                           0.72     14000\n",
      "   macro avg       0.72      0.72      0.72     14000\n",
      "weighted avg       0.72      0.72      0.72     14000\n",
      "\n",
      "0.7222142857142857\n"
     ]
    }
   ],
   "source": [
    "#bagging\n",
    "from sklearn.ensemble import BaggingClassifier\n",
    "from sklearn.tree import DecisionTreeClassifier\n",
    "from sklearn.model_selection import GridSearchCV\n",
    "from sklearn.tree import DecisionTreeClassifier\n",
    "parameters = {'n_estimators':[20, 50, 100],\n",
    "              'max_samples':[0.2, 0.5, 0.8],\n",
    "             }\n",
    "bag_clf = GridSearchCV(BaggingClassifier(), param_grid = parameters, cv = 5, scoring='accuracy')\n",
    "bag_clf.fit(X_train, y_train)\n",
    "y_pred = bag_clf.predict(X_test)\n",
    "print(classification_report(y_test, y_pred))\n",
    "print(accuracy_score(y_test, y_pred))"
   ]
  },
  {
   "cell_type": "code",
   "execution_count": 16,
   "id": "6ae47178",
   "metadata": {},
   "outputs": [
    {
     "name": "stdout",
     "output_type": "stream",
     "text": [
      "              precision    recall  f1-score   support\n",
      "\n",
      "           0       0.72      0.77      0.75      6990\n",
      "           1       0.76      0.71      0.73      7010\n",
      "\n",
      "    accuracy                           0.74     14000\n",
      "   macro avg       0.74      0.74      0.74     14000\n",
      "weighted avg       0.74      0.74      0.74     14000\n",
      "\n",
      "0.739\n"
     ]
    }
   ],
   "source": [
    "#BOOSTING\n",
    "from sklearn.ensemble import GradientBoostingClassifier\n",
    "import warnings\n",
    "warnings.filterwarnings(\"ignore\")\n",
    "parameters = {'n_estimators':[20, 50, 100, 200, 300, 400],\n",
    "              'subsample':[0.2, 0.5, 0.8],\n",
    "              'max_depth':[1, 2, 3],\n",
    "              'max_features':[3, 4, 5]}\n",
    "gbc_clf = GridSearchCV(GradientBoostingClassifier(),param_grid = parameters, cv = 5, scoring='accuracy')\n",
    "gbc_clf.fit(X_train, y_train)\n",
    "y_pred = gbc_clf.predict(X_test)\n",
    "print(classification_report(y_test, y_pred))\n",
    "print(accuracy_score(y_test, y_pred))"
   ]
  },
  {
   "cell_type": "code",
   "execution_count": 17,
   "id": "904c06cc",
   "metadata": {},
   "outputs": [
    {
     "name": "stdout",
     "output_type": "stream",
     "text": [
      "              precision    recall  f1-score   support\n",
      "\n",
      "           0       0.70      0.78      0.74      6990\n",
      "           1       0.75      0.67      0.71      7010\n",
      "\n",
      "    accuracy                           0.73     14000\n",
      "   macro avg       0.73      0.73      0.73     14000\n",
      "weighted avg       0.73      0.73      0.73     14000\n",
      "\n",
      "0.726\n"
     ]
    }
   ],
   "source": [
    "#stacking\n",
    "from sklearn.ensemble import StackingClassifier\n",
    "from sklearn.linear_model import LogisticRegression\n",
    "st_clf = StackingClassifier(estimators = [('gbc',GradientBoostingClassifier(max_depth=1, max_features=3, n_estimators=20, subsample=0.5)),\n",
    "                                          ('bag',BaggingClassifier(max_samples=0.3,n_estimators=20))] , \n",
    "                            final_estimator = LogisticRegression())\n",
    "st_clf._estimator_type = \"classifier\"\n",
    "st_clf.fit(X_train, y_train)\n",
    "y_pred = st_clf.predict(X_test)\n",
    "# 输出对测试数据预测的精度、查准率、查全率和F1分数\n",
    "print(classification_report(y_test, y_pred))\n",
    "print(accuracy_score(y_test, y_pred))"
   ]
  },
  {
   "cell_type": "code",
   "execution_count": null,
   "id": "deb87b68",
   "metadata": {},
   "outputs": [],
   "source": []
  },
  {
   "cell_type": "code",
   "execution_count": null,
   "id": "0e42ffac",
   "metadata": {},
   "outputs": [],
   "source": []
  },
  {
   "cell_type": "code",
   "execution_count": null,
   "id": "204202c2",
   "metadata": {},
   "outputs": [],
   "source": []
  }
 ],
 "metadata": {
  "kernelspec": {
   "display_name": "Python 3",
   "language": "python",
   "name": "python3"
  },
  "language_info": {
   "codemirror_mode": {
    "name": "ipython",
    "version": 3
   },
   "file_extension": ".py",
   "mimetype": "text/x-python",
   "name": "python",
   "nbconvert_exporter": "python",
   "pygments_lexer": "ipython3",
   "version": "3.8.8"
  }
 },
 "nbformat": 4,
 "nbformat_minor": 5
}
