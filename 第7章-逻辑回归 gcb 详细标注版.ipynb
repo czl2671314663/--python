{
 "cells": [
  {
   "cell_type": "code",
   "execution_count": 93,
   "metadata": {},
   "outputs": [],
   "source": [
    "import pandas as pd\n",
    "# 读入数据\n",
    "data = pd.read_csv('train.csv')  # 假设数据文件存在当前目录下"
   ]
  },
  {
   "cell_type": "code",
   "execution_count": 94,
   "metadata": {},
   "outputs": [
    {
     "name": "stdout",
     "output_type": "stream",
     "text": [
      "<class 'pandas.core.frame.DataFrame'>\n",
      "RangeIndex: 891 entries, 0 to 890\n",
      "Data columns (total 12 columns):\n",
      "PassengerId    891 non-null int64\n",
      "Survived       891 non-null int64\n",
      "Pclass         891 non-null int64\n",
      "Name           891 non-null object\n",
      "Sex            891 non-null object\n",
      "Age            714 non-null float64\n",
      "SibSp          891 non-null int64\n",
      "Parch          891 non-null int64\n",
      "Ticket         891 non-null object\n",
      "Fare           891 non-null float64\n",
      "Cabin          204 non-null object\n",
      "Embarked       889 non-null object\n",
      "dtypes: float64(2), int64(5), object(5)\n",
      "memory usage: 83.6+ KB\n"
     ]
    }
   ],
   "source": [
    "data.info()   #显示数据信息"
   ]
  },
  {
   "cell_type": "code",
   "execution_count": 95,
   "metadata": {},
   "outputs": [
    {
     "data": {
      "text/html": [
       "<div>\n",
       "<style scoped>\n",
       "    .dataframe tbody tr th:only-of-type {\n",
       "        vertical-align: middle;\n",
       "    }\n",
       "\n",
       "    .dataframe tbody tr th {\n",
       "        vertical-align: top;\n",
       "    }\n",
       "\n",
       "    .dataframe thead th {\n",
       "        text-align: right;\n",
       "    }\n",
       "</style>\n",
       "<table border=\"1\" class=\"dataframe\">\n",
       "  <thead>\n",
       "    <tr style=\"text-align: right;\">\n",
       "      <th></th>\n",
       "      <th>PassengerId</th>\n",
       "      <th>Survived</th>\n",
       "      <th>Pclass</th>\n",
       "      <th>Age</th>\n",
       "      <th>SibSp</th>\n",
       "      <th>Parch</th>\n",
       "      <th>Fare</th>\n",
       "    </tr>\n",
       "  </thead>\n",
       "  <tbody>\n",
       "    <tr>\n",
       "      <th>count</th>\n",
       "      <td>891.000000</td>\n",
       "      <td>891.000000</td>\n",
       "      <td>891.000000</td>\n",
       "      <td>714.000000</td>\n",
       "      <td>891.000000</td>\n",
       "      <td>891.000000</td>\n",
       "      <td>891.000000</td>\n",
       "    </tr>\n",
       "    <tr>\n",
       "      <th>mean</th>\n",
       "      <td>446.000000</td>\n",
       "      <td>0.383838</td>\n",
       "      <td>2.308642</td>\n",
       "      <td>29.699118</td>\n",
       "      <td>0.523008</td>\n",
       "      <td>0.381594</td>\n",
       "      <td>32.204208</td>\n",
       "    </tr>\n",
       "    <tr>\n",
       "      <th>std</th>\n",
       "      <td>257.353842</td>\n",
       "      <td>0.486592</td>\n",
       "      <td>0.836071</td>\n",
       "      <td>14.526497</td>\n",
       "      <td>1.102743</td>\n",
       "      <td>0.806057</td>\n",
       "      <td>49.693429</td>\n",
       "    </tr>\n",
       "    <tr>\n",
       "      <th>min</th>\n",
       "      <td>1.000000</td>\n",
       "      <td>0.000000</td>\n",
       "      <td>1.000000</td>\n",
       "      <td>0.420000</td>\n",
       "      <td>0.000000</td>\n",
       "      <td>0.000000</td>\n",
       "      <td>0.000000</td>\n",
       "    </tr>\n",
       "    <tr>\n",
       "      <th>25%</th>\n",
       "      <td>223.500000</td>\n",
       "      <td>0.000000</td>\n",
       "      <td>2.000000</td>\n",
       "      <td>20.125000</td>\n",
       "      <td>0.000000</td>\n",
       "      <td>0.000000</td>\n",
       "      <td>7.910400</td>\n",
       "    </tr>\n",
       "    <tr>\n",
       "      <th>50%</th>\n",
       "      <td>446.000000</td>\n",
       "      <td>0.000000</td>\n",
       "      <td>3.000000</td>\n",
       "      <td>28.000000</td>\n",
       "      <td>0.000000</td>\n",
       "      <td>0.000000</td>\n",
       "      <td>14.454200</td>\n",
       "    </tr>\n",
       "    <tr>\n",
       "      <th>75%</th>\n",
       "      <td>668.500000</td>\n",
       "      <td>1.000000</td>\n",
       "      <td>3.000000</td>\n",
       "      <td>38.000000</td>\n",
       "      <td>1.000000</td>\n",
       "      <td>0.000000</td>\n",
       "      <td>31.000000</td>\n",
       "    </tr>\n",
       "    <tr>\n",
       "      <th>max</th>\n",
       "      <td>891.000000</td>\n",
       "      <td>1.000000</td>\n",
       "      <td>3.000000</td>\n",
       "      <td>80.000000</td>\n",
       "      <td>8.000000</td>\n",
       "      <td>6.000000</td>\n",
       "      <td>512.329200</td>\n",
       "    </tr>\n",
       "  </tbody>\n",
       "</table>\n",
       "</div>"
      ],
      "text/plain": [
       "       PassengerId    Survived      Pclass         Age       SibSp  \\\n",
       "count   891.000000  891.000000  891.000000  714.000000  891.000000   \n",
       "mean    446.000000    0.383838    2.308642   29.699118    0.523008   \n",
       "std     257.353842    0.486592    0.836071   14.526497    1.102743   \n",
       "min       1.000000    0.000000    1.000000    0.420000    0.000000   \n",
       "25%     223.500000    0.000000    2.000000   20.125000    0.000000   \n",
       "50%     446.000000    0.000000    3.000000   28.000000    0.000000   \n",
       "75%     668.500000    1.000000    3.000000   38.000000    1.000000   \n",
       "max     891.000000    1.000000    3.000000   80.000000    8.000000   \n",
       "\n",
       "            Parch        Fare  \n",
       "count  891.000000  891.000000  \n",
       "mean     0.381594   32.204208  \n",
       "std      0.806057   49.693429  \n",
       "min      0.000000    0.000000  \n",
       "25%      0.000000    7.910400  \n",
       "50%      0.000000   14.454200  \n",
       "75%      0.000000   31.000000  \n",
       "max      6.000000  512.329200  "
      ]
     },
     "execution_count": 95,
     "metadata": {},
     "output_type": "execute_result"
    }
   ],
   "source": [
    "data.describe()  #对数据进行统计分析，显示数量 均值 标准差 最小值 下四分位数 中位数 上四分位数 最大值"
   ]
  },
  {
   "cell_type": "code",
   "execution_count": 96,
   "metadata": {},
   "outputs": [
    {
     "name": "stdout",
     "output_type": "stream",
     "text": [
      "1    233\n",
      "0     81\n",
      "Name: Survived, dtype: int64\n",
      "    男性   女性\n",
      "0  468   81\n",
      "1  109  233\n"
     ]
    },
    {
     "data": {
      "text/plain": [
       "Text(0, 0.5, '人数')"
      ]
     },
     "execution_count": 96,
     "metadata": {},
     "output_type": "execute_result"
    },
    {
     "data": {
      "image/png": "[encoded data removed]",
      "text/plain": [
       "<Figure size 432x288 with 1 Axes>"
      ]
     },
     "metadata": {
      "needs_background": "light"
     },
     "output_type": "display_data"
    }
   ],
   "source": [
    "import matplotlib.pyplot as plt\n",
    "\n",
    "#jupyter中专用的，用于显示图像\n",
    "%matplotlib inline    \n",
    "\n",
    "#以下两句用于正常显示汉字\n",
    "from pylab import mpl   \n",
    "mpl.rcParams['font.sans-serif'] = ['Kaiti']\n",
    "\n",
    "#分别找出男性和女性中Survived为0、1的人数\n",
    "Survived_m = data.Survived[data.Sex == 'male'].value_counts()  #value_counts()是一种查看表格某列中有多少个不同值的快捷方法，并计算每个不同值在该列中有多少重复值。\n",
    "Survived_f = data.Survived[data.Sex == 'female'].value_counts()\n",
    "print(Survived_f )\n",
    "df = pd.DataFrame({u'男性':Survived_m, u'女性':Survived_f}) #以字典类型组建数据帧，列标题为男性和女性\n",
    "print(df)\n",
    "\n",
    "df.plot(kind = 'bar', stacked = True) #stacked表示柱状图是并排显示还是堆叠显示\n",
    "plt.title(u'按性别看获救情况') \n",
    "plt.xlabel(u'获救')\n",
    "plt.ylabel(u'人数')\n",
    "\n",
    "#根据图中可以看出男性和女性的获救和死亡的比例明显不同，说明性别对目标值有影响，应将其作为特征值用于目标值的判断"
   ]
  },
  {
   "cell_type": "code",
   "execution_count": 97,
   "metadata": {},
   "outputs": [
    {
     "name": "stdout",
     "output_type": "stream",
     "text": [
      "    获救  未获救\n",
      "S  217  427\n",
      "C   93   75\n",
      "Q   30   47\n"
     ]
    },
    {
     "data": {
      "image/png": "[encoded data removed]",
      "text/plain": [
       "<Figure size 432x288 with 1 Axes>"
      ]
     },
     "metadata": {
      "needs_background": "light"
     },
     "output_type": "display_data"
    }
   ],
   "source": [
    "#这里换了一个角度研究特征值和目标值的关系，看不同登船港口的人中获救和未获救的人数\n",
    "Survived_0 = data.Embarked[data.Survived == 0].value_counts()\n",
    "Survived_1 = data.Embarked[data.Survived == 1].value_counts()\n",
    "\n",
    "df = pd.DataFrame({u'获救':Survived_1,u'未获救':Survived_0})\n",
    "print(df)\n",
    "df.plot(kind = 'bar', stacked = True)\n",
    "plt.title(u'各登船港口乘客的获救情况')\n",
    "plt.xlabel(u'登船港口')\n",
    "plt.ylabel(u'人数')\n",
    "plt.show()\n",
    "\n",
    "#从结果可见，从不同的港口登船的人的获救和未获救的比例明显不同，因此可以得出登船港口和目标值相关"
   ]
  },
  {
   "cell_type": "code",
   "execution_count": 98,
   "metadata": {},
   "outputs": [],
   "source": [
    "#print(data.head())\n",
    "# 删除姓名、ID、船票（票号）、客舱（客舱号）等无关信息，axis=0 删除行，=1 删除列\n",
    "data.drop(['Name','PassengerId','Ticket','Cabin'], axis=1, inplace=True)\n",
    "# 用平均值或众数填充缺失数据\n",
    "#print(data.head())\n",
    "data['Age'] = data['Age'].fillna(data['Age'].mean())   #data['Age'].mean()表示Age的平均数，fillna()表示填充空值的格，data['Age']表示data中的Age列\n"
   ]
  },
  {
   "cell_type": "code",
   "execution_count": 99,
   "metadata": {},
   "outputs": [
    {
     "name": "stdout",
     "output_type": "stream",
     "text": [
      "S    644\n",
      "C    168\n",
      "Q     77\n",
      "Name: Embarked, dtype: int64\n",
      "   Sex_male  Embarked_Q  Embarked_S\n",
      "0         1           0           1\n",
      "1         0           0           0\n",
      "2         0           0           1\n",
      "3         0           0           1\n",
      "4         1           0           1\n"
     ]
    }
   ],
   "source": [
    "data['Fare'] = data['Fare'].fillna(data['Fare'].mean())  #均值填充\n",
    "\n",
    "data_Em = data['Embarked'].value_counts()   #data['Embarked'].value_counts(),用于表格Embraked列中有多少个不同值，并计算每个不同值在该列中有多少重复值，其按照重复值从多到少的顺序排列\n",
    "print(data_Em)\n",
    "data['Embarked'].value_counts().index[0]\n",
    "#index[0]对应于重复值最多的那个数值的索引值（登船地点），即 众数。\n",
    "data['Embarked'] = data['Embarked'].fillna(data['Embarked'].value_counts().index[0])#用众数填充空值\n",
    "\n",
    "# 将性别与登船港口进行独热编码，因为sex和Embarked中的值均为字符串，无法进行公式的计算，因此需要将其转化为数值，独热编码是一种方式，将特征量分解成\n",
    "#含有其数值的多个特征量，值为0、1，如sex特征可以分解为Sex_male,Sex_female两个特征量，其值分别为0，1,由于Sex_male,Sex_female两个特征量是完全相关的\n",
    "#只要有一列，两外一列不增加任何信息，因此可以将其中一列丢掉，一般是用参数“drop_first=True”丢掉第一列，\n",
    "dumm = pd.get_dummies(data[['Sex','Embarked']], drop_first=True)\n",
    "print(dumm.head())"
   ]
  },
  {
   "cell_type": "code",
   "execution_count": 100,
   "metadata": {},
   "outputs": [
    {
     "name": "stdout",
     "output_type": "stream",
     "text": [
      "   Survived  Pclass     Sex   Age  SibSp  Parch     Fare Embarked  Sex_male  \\\n",
      "0         0       3    male  22.0      1      0   7.2500        S         1   \n",
      "1         1       1  female  38.0      1      0  71.2833        C         0   \n",
      "2         1       3  female  26.0      0      0   7.9250        S         0   \n",
      "3         1       1  female  35.0      1      0  53.1000        S         0   \n",
      "4         0       3    male  35.0      0      0   8.0500        S         1   \n",
      "\n",
      "   Embarked_Q  Embarked_S  \n",
      "0           0           1  \n",
      "1           0           0  \n",
      "2           0           1  \n",
      "3           0           1  \n",
      "4           0           1  \n"
     ]
    }
   ],
   "source": [
    "data = pd.concat([data, dumm], axis=1)#按列融合数据，将Sex_male  Embarked_Q  Embarked_S列添加到原数据中\n",
    "print(data.head())\n",
    "data.drop(['Sex','Embarked'], axis=1, inplace=True)   #删除'Sex','Embarked'列"
   ]
  },
  {
   "cell_type": "code",
   "execution_count": 101,
   "metadata": {},
   "outputs": [
    {
     "name": "stdout",
     "output_type": "stream",
     "text": [
      "   Survived  Pclass       Age  SibSp  Parch      Fare  Sex_male  Embarked_Q  \\\n",
      "0         0       3  0.271174      1      0  0.014151         1           0   \n",
      "1         1       1  0.472229      1      0  0.139136         0           0   \n",
      "2         1       3  0.321438      0      0  0.015469         0           0   \n",
      "3         1       1  0.434531      1      0  0.103644         0           0   \n",
      "4         0       3  0.434531      0      0  0.015713         1           0   \n",
      "\n",
      "   Embarked_S  \n",
      "0           1  \n",
      "1           0  \n",
      "2           1  \n",
      "3           1  \n",
      "4           1  \n"
     ]
    }
   ],
   "source": [
    "# 数据缩放（归一化）\n",
    "data['Age']=(data['Age']-data['Age'].min())/(data['Age'].max()-data['Age'].min())\n",
    "data['Fare']=(data['Fare']-data['Fare'].min())/( data['Fare'].max()-data['Fare'].min())\n",
    "print(data.head())\n"
   ]
  },
  {
   "cell_type": "code",
   "execution_count": 102,
   "metadata": {},
   "outputs": [],
   "source": [
    "from sklearn.model_selection import train_test_split\n",
    "\n",
    "X = data.drop('Survived', axis=1)     #去掉目标值，作为训练的自变量\n",
    "y = data.Survived                     #提取目标值\n",
    "X_train, X_test, y_train, y_test = train_test_split(X, y, test_size=0.3)   #划分训练集和测试集"
   ]
  },
  {
   "cell_type": "code",
   "execution_count": 104,
   "metadata": {},
   "outputs": [
    {
     "name": "stdout",
     "output_type": "stream",
     "text": [
      "     Pclass       Age  SibSp  Parch      Fare  Sex_male  Embarked_Q  \\\n",
      "432       2  0.522493      1      0  0.050749         0           0   \n",
      "612       3  0.367921      1      0  0.030254         0           1   \n",
      "463       2  0.597889      0      0  0.025374         1           0   \n",
      "387       2  0.447097      0      0  0.025374         0           0   \n",
      "593       3  0.367921      0      2  0.015127         0           1   \n",
      "822       1  0.472229      0      0  0.000000         1           0   \n",
      "634       3  0.107816      3      2  0.054457         0           0   \n",
      "468       3  0.367921      0      0  0.015078         1           1   \n",
      "480       3  0.107816      5      2  0.091543         1           0   \n",
      "556       1  0.597889      1      0  0.077294         0           0   \n",
      "244       3  0.371701      0      0  0.014102         1           0   \n",
      "542       3  0.132948      4      2  0.061045         0           0   \n",
      "547       2  0.367921      0      0  0.027058         1           0   \n",
      "742       1  0.258608      2      2  0.512122         0           0   \n",
      "737       1  0.434531      0      0  1.000000         1           0   \n",
      "450       2  0.447097      1      2  0.054164         1           0   \n",
      "293       3  0.296306      0      0  0.017274         0           0   \n",
      "138       3  0.195778      0      0  0.017990         1           0   \n",
      "791       2  0.195778      0      0  0.050749         1           0   \n",
      "515       1  0.585323      0      0  0.066404         1           0   \n",
      "130       3  0.409399      0      0  0.015412         1           0   \n",
      "508       3  0.346569      0      0  0.043966         1           0   \n",
      "23        1  0.346569      0      0  0.069291         1           0   \n",
      "550       1  0.208344      0      2  0.216430         1           0   \n",
      "198       3  0.367921      0      0  0.015127         0           1   \n",
      "190       2  0.396833      0      0  0.025374         0           0   \n",
      "404       3  0.246042      0      0  0.016908         0           0   \n",
      "100       3  0.346569      0      0  0.015412         0           0   \n",
      "275       1  0.786378      1      0  0.152164         0           0   \n",
      "606       3  0.371701      0      0  0.015412         1           0   \n",
      "..      ...       ...    ...    ...       ...       ...         ...   \n",
      "549       2  0.095250      1      1  0.071731         1           0   \n",
      "504       1  0.195778      0      0  0.168837         0           0   \n",
      "693       3  0.308872      0      0  0.014102         1           0   \n",
      "581       1  0.484795      1      1  0.216430         0           0   \n",
      "321       3  0.334004      0      0  0.015412         1           0   \n",
      "659       1  0.723549      0      2  0.221098         1           0   \n",
      "553       3  0.271174      0      0  0.014102         1           0   \n",
      "445       1  0.044986      0      2  0.159777         1           0   \n",
      "860       3  0.509927      2      0  0.027538         1           0   \n",
      "119       3  0.019854      4      2  0.061045         0           0   \n",
      "864       2  0.296306      0      0  0.025374         1           0   \n",
      "644       3  0.004147      2      1  0.037590         0           0   \n",
      "142       3  0.296306      1      0  0.030937         0           0   \n",
      "344       2  0.447097      0      0  0.025374         1           0   \n",
      "806       1  0.484795      0      0  0.000000         1           0   \n",
      "555       1  0.773813      0      0  0.051822         1           0   \n",
      "305       1  0.006283      1      2  0.295806         1           0   \n",
      "558       1  0.484795      1      1  0.155466         0           0   \n",
      "677       3  0.220910      0      0  0.019210         0           0   \n",
      "862       1  0.597889      0      0  0.050610         0           0   \n",
      "526       2  0.623021      0      0  0.020495         0           0   \n",
      "345       2  0.296306      0      0  0.025374         0           0   \n",
      "254       3  0.509927      0      2  0.039452         0           0   \n",
      "403       3  0.346569      1      0  0.030937         1           0   \n",
      "701       1  0.434531      0      0  0.051310         1           0   \n",
      "704       3  0.321438      1      0  0.015330         1           0   \n",
      "58        2  0.057552      1      2  0.054164         0           0   \n",
      "328       3  0.384267      1      1  0.040062         0           0   \n",
      "395       3  0.271174      0      0  0.015216         1           0   \n",
      "481       2  0.367921      0      0  0.000000         1           0   \n",
      "\n",
      "     Embarked_S  Survived  y_test_pred  \n",
      "432           1         1            1  \n",
      "612           0         1            1  \n",
      "463           1         0            0  \n",
      "387           1         1            1  \n",
      "593           0         0            1  \n",
      "822           1         0            0  \n",
      "634           1         0            0  \n",
      "468           0         0            0  \n",
      "480           1         0            0  \n",
      "556           0         1            1  \n",
      "244           0         0            0  \n",
      "542           1         0            0  \n",
      "547           0         1            0  \n",
      "742           0         1            1  \n",
      "737           0         1            1  \n",
      "450           1         0            0  \n",
      "293           1         0            1  \n",
      "138           1         0            0  \n",
      "791           1         0            0  \n",
      "515           1         0            0  \n",
      "130           0         0            0  \n",
      "508           1         0            0  \n",
      "23            1         1            0  \n",
      "550           0         1            1  \n",
      "198           0         1            1  \n",
      "190           1         1            1  \n",
      "404           1         0            1  \n",
      "100           1         0            1  \n",
      "275           1         1            1  \n",
      "606           1         0            0  \n",
      "..          ...       ...          ...  \n",
      "549           1         1            0  \n",
      "504           1         1            1  \n",
      "693           0         0            0  \n",
      "581           0         1            1  \n",
      "321           1         0            0  \n",
      "659           0         0            0  \n",
      "553           0         1            0  \n",
      "445           1         1            1  \n",
      "860           1         0            0  \n",
      "119           1         0            0  \n",
      "864           1         0            0  \n",
      "644           0         1            1  \n",
      "142           1         1            1  \n",
      "344           1         0            0  \n",
      "806           1         0            0  \n",
      "555           1         0            0  \n",
      "305           1         1            0  \n",
      "558           1         1            1  \n",
      "677           1         1            1  \n",
      "862           1         1            1  \n",
      "526           1         1            1  \n",
      "345           1         1            1  \n",
      "254           1         0            1  \n",
      "403           1         0            0  \n",
      "701           1         1            0  \n",
      "704           1         0            0  \n",
      "58            1         1            1  \n",
      "328           1         1            1  \n",
      "395           1         0            0  \n",
      "481           1         0            0  \n",
      "\n",
      "[268 rows x 10 columns]\n",
      "训练集准确率：\n",
      " 0.7897271268057785\n",
      "验证集准确率：\n",
      " 0.8208955223880597\n"
     ]
    }
   ],
   "source": [
    "from sklearn.linear_model import LogisticRegression\n",
    "\n",
    "LR = LogisticRegression(solver = 'liblinear') \n",
    "#有很多参数可选，下面为完整的参数，很多可以是默认的，几种重要的参数选择\n",
    "#进一步的了解，请参考：https://www.cnblogs.com/volcao/p/9387838.html\n",
    "#LogisticRegression(C=1.0, class_weight=None, dual=False, fit_intercept=True,\n",
    "#          intercept_scaling=1, max_iter=100, multi_class='ovr', n_jobs=1,\n",
    "#         penalty='l2', random_state=None, solver='liblinear', tol=0.0001,\n",
    "#          verbose=0, warm_start=False)\n",
    "#solver : 字符串,取值 {‘newton-cg’, ‘lbfgs’, ‘liblinear’, ‘sag’, ‘saga’},\n",
    "#默认是 ‘liblinear’. 如果数据集比较小，则 ‘liblinear’是很好的选择；\n",
    "#如果数据集很大，用‘sag’ and ‘saga’； 如果是多分类任务，则用 ‘newton-cg’, \n",
    "#‘sag’, ‘saga’ and ‘lbfgs’ ； ‘liblinear’ 只能用于二分类问题。 \n",
    "#‘newton-cg’, ‘lbfgs’ and ‘sag’只处理 L2 范式的正则项，而 ‘liblinear’ and ‘saga’ 只处理 L1范式的正则项.\n",
    "\n",
    "\n",
    "LR.fit(X_train, y_train)   #训练模型\n",
    "y_test_pre = LR.predict(X_test)   #对测试集进行预测\n",
    "#print(y_test_pre)\n",
    "test = pd.concat([X_test,y_test], axis=1)    #这里将X_test和实际的目标值进行融合\n",
    "test['y_test_pred'] = y_test_pre    #将预测结果也作为一列加上，可以通过数据查看，哪些样例预测对了，哪些预测错了\n",
    "print(test)\n",
    "\n",
    "\n",
    "print('训练集准确率：\\n', LR.score(X_train, y_train))\n",
    "print('验证集准确率：\\n', LR.score(X_test, y_test))"
   ]
  },
  {
   "cell_type": "markdown",
   "metadata": {},
   "source": [
    "solver : 字符串,取值 {‘newton-cg’, ‘lbfgs’, ‘liblinear’, ‘sag’, ‘saga’},默认是 ‘liblinear’.\n",
    "如果数据集比较小，则 ‘liblinear’是很好的选择； 如果数据集很大，用‘sag’ and ‘saga’；\n",
    "如果是多分类任务，则用 ‘newton-cg’, ‘sag’, ‘saga’ and ‘lbfgs’ ； ‘liblinear’ 只能用于二分类问题。\n",
    "‘newton-cg’, ‘lbfgs’ and ‘sag’只处理 L2 范式的正则项，而 ‘liblinear’ and ‘saga’ 只处理 L1范式的正则项.\n"
   ]
  },
  {
   "cell_type": "code",
   "execution_count": null,
   "metadata": {},
   "outputs": [],
   "source": []
  }
 ],
 "metadata": {
  "kernelspec": {
   "display_name": "Python 3",
   "language": "python",
   "name": "python3"
  },
  "language_info": {
   "codemirror_mode": {
    "name": "ipython",
    "version": 3
   },
   "file_extension": ".py",
   "mimetype": "text/x-python",
   "name": "python",
   "nbconvert_exporter": "python",
   "pygments_lexer": "ipython3",
   "version": "3.8.8"
  }
 },
 "nbformat": 4,
 "nbformat_minor": 2
}
